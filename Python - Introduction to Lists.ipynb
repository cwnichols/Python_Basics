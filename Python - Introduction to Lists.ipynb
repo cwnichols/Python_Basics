{
 "cells": [
  {
   "cell_type": "markdown",
   "metadata": {},
   "source": [
    "## Introduction to Lists"
   ]
  },
  {
   "cell_type": "code",
   "execution_count": 2,
   "metadata": {},
   "outputs": [
    {
     "data": {
      "text/plain": [
       "[]"
      ]
     },
     "execution_count": 2,
     "metadata": {},
     "output_type": "execute_result"
    }
   ],
   "source": [
    "# create an empty list\n",
    "empty_list=[]\n",
    "empty_list"
   ]
  },
  {
   "cell_type": "code",
   "execution_count": 3,
   "metadata": {},
   "outputs": [
    {
     "data": {
      "text/plain": [
       "[['Data Science', 'Machine Learning'], [135, 232, 321]]"
      ]
     },
     "execution_count": 3,
     "metadata": {},
     "output_type": "execute_result"
    }
   ],
   "source": [
    "# nest list\n",
    "my_list = [['Data Science','Machine Learning'],[135,232,321]]\n",
    "my_list"
   ]
  },
  {
   "cell_type": "markdown",
   "metadata": {},
   "source": [
    "\n",
    "## Indexing"
   ]
  },
  {
   "cell_type": "code",
   "execution_count": 7,
   "metadata": {},
   "outputs": [
    {
     "name": "stdout",
     "output_type": "stream",
     "text": [
      "['data science', 'machine learning', 'python', 'html', 'big data']\n",
      "machine learning\n",
      "big data\n",
      "html\n",
      "['data science', 'machine learning', 'python']\n"
     ]
    }
   ],
   "source": [
    "course = ['data science','machine learning','python','html','big data']\n",
    "print(course)\n",
    "# access the second item in the list\n",
    "print(course[1])\n",
    "print(course[-1])\n",
    "print(course[-2])\n",
    "print(course[:3])"
   ]
  },
  {
   "cell_type": "code",
   "execution_count": 10,
   "metadata": {},
   "outputs": [
    {
     "data": {
      "text/plain": [
       "0"
      ]
     },
     "execution_count": 10,
     "metadata": {},
     "output_type": "execute_result"
    }
   ],
   "source": [
    "D = [0 , 1 , 2 , 3 , 0 , 1 , 2 , 3 , 4]\n",
    "D[D[0]]"
   ]
  },
  {
   "cell_type": "code",
   "execution_count": 12,
   "metadata": {},
   "outputs": [
    {
     "name": "stdout",
     "output_type": "stream",
     "text": [
      "[3, 5, 7]\n"
     ]
    }
   ],
   "source": [
    "a=[1,2,3,4,5,6,7,8,9,10]\n",
    "print(a[2:7:2]) # (start, stop, step size)"
   ]
  },
  {
   "cell_type": "code",
   "execution_count": 13,
   "metadata": {},
   "outputs": [
    {
     "data": {
      "text/plain": [
       "['data science', 'machine learning', 'python', 'statistics', 'big data']"
      ]
     },
     "execution_count": 13,
     "metadata": {},
     "output_type": "execute_result"
    }
   ],
   "source": [
    "course[3]='statistics' # changing a value in the list\n",
    "course[:]"
   ]
  },
  {
   "cell_type": "code",
   "execution_count": 14,
   "metadata": {},
   "outputs": [
    {
     "name": "stdout",
     "output_type": "stream",
     "text": [
      "[0, 0, 1, 1, 2, 2, 3, 0]\n"
     ]
    }
   ],
   "source": [
    "D = [0 , 1 , 2 , 3 , 0 , 1 , 2 , 3 , 4]\n",
    "print(D[0:1]+D[:2]+D[1:3]+D[2:4]+D[-5:-4])"
   ]
  },
  {
   "cell_type": "code",
   "execution_count": 15,
   "metadata": {},
   "outputs": [
    {
     "data": {
      "text/plain": [
       "['data science', 'machine learning', 'python']"
      ]
     },
     "execution_count": 15,
     "metadata": {},
     "output_type": "execute_result"
    }
   ],
   "source": [
    "course[:3] #start at 0 and return first three"
   ]
  },
  {
   "cell_type": "code",
   "execution_count": 16,
   "metadata": {},
   "outputs": [
    {
     "data": {
      "text/plain": [
       "['python', 'statistics', 'big data']"
      ]
     },
     "execution_count": 16,
     "metadata": {},
     "output_type": "execute_result"
    }
   ],
   "source": [
    "course[2:]"
   ]
  },
  {
   "cell_type": "code",
   "execution_count": 17,
   "metadata": {},
   "outputs": [
    {
     "data": {
      "text/plain": [
       "['python']"
      ]
     },
     "execution_count": 17,
     "metadata": {},
     "output_type": "execute_result"
    }
   ],
   "source": [
    "course[2:3:2]"
   ]
  },
  {
   "cell_type": "markdown",
   "metadata": {},
   "source": [
    "\n",
    "## Lists Methods"
   ]
  },
  {
   "cell_type": "markdown",
   "metadata": {},
   "source": [
    "Python has a set of built in methods you can use on a list\n",
    "append()\n",
    "insert()\n",
    "extend()\n",
    "del()\n",
    "remove()\n",
    "pop()\n",
    "reverse()"
   ]
  },
  {
   "cell_type": "code",
   "execution_count": 32,
   "metadata": {},
   "outputs": [
    {
     "data": {
      "text/plain": [
       "['data science', 'machine learning', 'python', 'statistics', 'big data']"
      ]
     },
     "execution_count": 32,
     "metadata": {},
     "output_type": "execute_result"
    }
   ],
   "source": [
    "course1 = ['data science', 'machine learning', 'python','html','big data']\n",
    "course2 = ['statistics']\n",
    "course1.append(course2)\n",
    "course"
   ]
  },
  {
   "cell_type": "code",
   "execution_count": 28,
   "metadata": {},
   "outputs": [
    {
     "name": "stdout",
     "output_type": "stream",
     "text": [
      "['data science', 'machine learning', ['statistics'], ['statistics'], 'python', 'html', 'big data', ['statistics']]\n"
     ]
    }
   ],
   "source": [
    "course1.insert(2,course2)\n",
    "print(course1[:])"
   ]
  },
  {
   "cell_type": "code",
   "execution_count": 29,
   "metadata": {},
   "outputs": [],
   "source": [
    "del course1 # instructure del is not a method"
   ]
  },
  {
   "cell_type": "code",
   "execution_count": 35,
   "metadata": {},
   "outputs": [
    {
     "data": {
      "text/plain": [
       "[['statistics'],\n",
       " 'big data',\n",
       " 'html',\n",
       " 'python',\n",
       " 'machine learning',\n",
       " 'data science']"
      ]
     },
     "execution_count": 35,
     "metadata": {},
     "output_type": "execute_result"
    }
   ],
   "source": [
    "course1.reverse()\n",
    "course1"
   ]
  },
  {
   "cell_type": "code",
   "execution_count": 36,
   "metadata": {},
   "outputs": [
    {
     "name": "stdout",
     "output_type": "stream",
     "text": [
      "[0, 1, 2, 3, 4, 'a', 'b', 'c', 'd', 'e']\n"
     ]
    }
   ],
   "source": [
    "a='abcde'\n",
    "b = list(a)\n",
    "c = list(range(len(a)))\n",
    "c.extend(b)\n",
    "print(c)"
   ]
  },
  {
   "cell_type": "code",
   "execution_count": 37,
   "metadata": {},
   "outputs": [
    {
     "name": "stdout",
     "output_type": "stream",
     "text": [
      "[0, 1, 2, 3, 4, ['a', 'b', 'c', 'd', 'e']]\n"
     ]
    }
   ],
   "source": [
    "a='abcde'\n",
    "b = list(a)\n",
    "c = list(range(len(a)))\n",
    "c.append(b)\n",
    "print(c)"
   ]
  },
  {
   "cell_type": "code",
   "execution_count": 38,
   "metadata": {},
   "outputs": [],
   "source": [
    "a = ['a','b']\n",
    "b = ['c','d']\n",
    "c = 'f'\n",
    "d = list(c)"
   ]
  },
  {
   "cell_type": "code",
   "execution_count": null,
   "metadata": {},
   "outputs": [],
   "source": []
  }
 ],
 "metadata": {
  "kernelspec": {
   "display_name": "Python 3",
   "language": "python",
   "name": "python3"
  },
  "language_info": {
   "codemirror_mode": {
    "name": "ipython",
    "version": 3
   },
   "file_extension": ".py",
   "mimetype": "text/x-python",
   "name": "python",
   "nbconvert_exporter": "python",
   "pygments_lexer": "ipython3",
   "version": "3.8.5"
  }
 },
 "nbformat": 4,
 "nbformat_minor": 4
}
