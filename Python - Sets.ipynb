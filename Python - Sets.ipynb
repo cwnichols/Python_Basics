{
 "cells": [
  {
   "cell_type": "markdown",
   "metadata": {},
   "source": [
    "## Introduction to Sets"
   ]
  },
  {
   "cell_type": "code",
   "execution_count": 3,
   "metadata": {},
   "outputs": [
    {
     "name": "stdout",
     "output_type": "stream",
     "text": [
      "{1, 2, 3, 4}\n",
      "{1, 4, 5, 7}\n"
     ]
    }
   ],
   "source": [
    "# remember sets use {} not [] or ()\n",
    "s = {1,2,3,3,4,3,3,2,2,2} # sets care about the content, ignores repeats / distincts\n",
    "print(s)\n",
    "\n",
    "# can be used to get distint of lists already created\n",
    "print(set([1,1,4,4,5,7]))"
   ]
  },
  {
   "cell_type": "code",
   "execution_count": 4,
   "metadata": {},
   "outputs": [
    {
     "name": "stdout",
     "output_type": "stream",
     "text": [
      "[{'a'}, {'b'}, {'c'}]\n"
     ]
    }
   ],
   "source": [
    "#Introduction to Sets\n",
    "A =['a']\n",
    "B =['b']\n",
    "C= ['c']\n",
    "output = [set(A),set(B),set(C)]\n",
    "print(output)"
   ]
  },
  {
   "cell_type": "code",
   "execution_count": 5,
   "metadata": {},
   "outputs": [
    {
     "name": "stdout",
     "output_type": "stream",
     "text": [
      "[1, 2, 3, 3, 4, 5, 2]\n"
     ]
    }
   ],
   "source": [
    "sets=[1,2,3,3,4,5,2]\n",
    "print(sets)"
   ]
  },
  {
   "cell_type": "code",
   "execution_count": null,
   "metadata": {},
   "outputs": [],
   "source": []
  }
 ],
 "metadata": {
  "kernelspec": {
   "display_name": "Python 3",
   "language": "python",
   "name": "python3"
  },
  "language_info": {
   "codemirror_mode": {
    "name": "ipython",
    "version": 3
   },
   "file_extension": ".py",
   "mimetype": "text/x-python",
   "name": "python",
   "nbconvert_exporter": "python",
   "pygments_lexer": "ipython3",
   "version": "3.8.5"
  }
 },
 "nbformat": 4,
 "nbformat_minor": 4
}
