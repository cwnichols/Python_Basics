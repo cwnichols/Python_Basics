{
 "cells": [
  {
   "cell_type": "markdown",
   "metadata": {},
   "source": [
    "## Operators"
   ]
  },
  {
   "cell_type": "code",
   "execution_count": 1,
   "metadata": {},
   "outputs": [
    {
     "name": "stdout",
     "output_type": "stream",
     "text": [
      "a + b =  14\n",
      "a - b =  10\n",
      "a * b =  24\n",
      "a / b =  6.0\n",
      "a % b =  0\n",
      "a // b =  6\n",
      "a ** b =  144\n"
     ]
    }
   ],
   "source": [
    "a=12\n",
    "b=2\n",
    "print('a + b = ',a+b)\n",
    "print('a - b = ',a-b)\n",
    "print('a * b = ',a*b)\n",
    "print('a / b = ',a/b)\n",
    "print('a % b = ',a%b) # remainder of division\n",
    "print('a // b = ',a//b) # interger value of the division\n",
    "print('a ** b = ',a**b) # a to the power of b"
   ]
  },
  {
   "cell_type": "markdown",
   "metadata": {},
   "source": [
    "\n",
    "## Comparison Operators"
   ]
  },
  {
   "cell_type": "code",
   "execution_count": 2,
   "metadata": {},
   "outputs": [
    {
     "name": "stdout",
     "output_type": "stream",
     "text": [
      "a > b is  False\n",
      "a < b is  True\n",
      "a == b is  False\n",
      "a != b is  True\n",
      "a >= b is  False\n",
      "a <= b is  True\n"
     ]
    }
   ],
   "source": [
    "a=10\n",
    "b=20\n",
    "print('a > b is ',a>b)\n",
    "print('a < b is ',a<b)\n",
    "print('a == b is ',a==b) # remember in comaprison operators you have to use ==\n",
    "print('a != b is ',a!=b)\n",
    "print('a >= b is ',a>=b)\n",
    "print('a <= b is ',a<=b)"
   ]
  },
  {
   "cell_type": "markdown",
   "metadata": {},
   "source": [
    "\n",
    "## Assignment Operators"
   ]
  },
  {
   "cell_type": "code",
   "execution_count": 9,
   "metadata": {},
   "outputs": [
    {
     "name": "stdout",
     "output_type": "stream",
     "text": [
      "5\n",
      "10\n",
      "8\n",
      "16\n",
      "8.0\n"
     ]
    }
   ],
   "source": [
    "x=5\n",
    "print(x)\n",
    "x+=5 # adds and then assigns back to value\n",
    "print(x) \n",
    "x-=2\n",
    "print(x)\n",
    "x*=2\n",
    "print(x)\n",
    "x/=2\n",
    "print(x)\n",
    "\n"
   ]
  },
  {
   "cell_type": "markdown",
   "metadata": {},
   "source": [
    "\n",
    "## Logical Operators"
   ]
  },
  {
   "cell_type": "code",
   "execution_count": 12,
   "metadata": {},
   "outputs": [
    {
     "name": "stdout",
     "output_type": "stream",
     "text": [
      "True\n"
     ]
    }
   ],
   "source": [
    "x=11\n",
    "a=x>10 or x==12 # either\n",
    "print(a)"
   ]
  },
  {
   "cell_type": "code",
   "execution_count": 13,
   "metadata": {},
   "outputs": [
    {
     "name": "stdout",
     "output_type": "stream",
     "text": [
      "False\n"
     ]
    }
   ],
   "source": [
    "x=11\n",
    "a=x>10 and x==12 # both\n",
    "print(a)"
   ]
  },
  {
   "cell_type": "code",
   "execution_count": 14,
   "metadata": {},
   "outputs": [
    {
     "data": {
      "text/plain": [
       "False"
      ]
     },
     "execution_count": 14,
     "metadata": {},
     "output_type": "execute_result"
    }
   ],
   "source": [
    "5%2 > 1 or 4/2 !=2"
   ]
  },
  {
   "cell_type": "code",
   "execution_count": null,
   "metadata": {},
   "outputs": [],
   "source": []
  }
 ],
 "metadata": {
  "kernelspec": {
   "display_name": "Python 3",
   "language": "python",
   "name": "python3"
  },
  "language_info": {
   "codemirror_mode": {
    "name": "ipython",
    "version": 3
   },
   "file_extension": ".py",
   "mimetype": "text/x-python",
   "name": "python",
   "nbconvert_exporter": "python",
   "pygments_lexer": "ipython3",
   "version": "3.8.5"
  }
 },
 "nbformat": 4,
 "nbformat_minor": 4
}
