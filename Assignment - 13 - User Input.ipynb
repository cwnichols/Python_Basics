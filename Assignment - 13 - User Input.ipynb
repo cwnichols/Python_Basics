{
 "cells": [
  {
   "cell_type": "markdown",
   "metadata": {},
   "source": [
    "### 1. Write a program to print the integer and string given, take the input from the user."
   ]
  },
  {
   "cell_type": "markdown",
   "metadata": {},
   "source": [
    "#### Integer = 22\n",
    "#### String = 'Great Learning'\n"
   ]
  },
  {
   "cell_type": "code",
   "execution_count": 3,
   "metadata": {},
   "outputs": [
    {
     "name": "stdout",
     "output_type": "stream",
     "text": [
      "Enter number: 22\n",
      "22 Great Learning\n"
     ]
    }
   ],
   "source": [
    "var1 = int(input('Enter number: '))\n",
    "var2 = 'Great Learning'\n",
    "print(var1,var2)"
   ]
  },
  {
   "cell_type": "markdown",
   "metadata": {},
   "source": [
    "### 2. Write a program that takes age, name and gender of the user as input "
   ]
  },
  {
   "cell_type": "code",
   "execution_count": 4,
   "metadata": {},
   "outputs": [
    {
     "name": "stdout",
     "output_type": "stream",
     "text": [
      "Please enter your age: 40\n",
      "Please enter your name: Chris Nichols\n",
      "Please enter your gender: Male\n",
      "Age:  40 \n",
      "Name:  Chris Nichols \n",
      "Gender:  Male\n"
     ]
    }
   ],
   "source": [
    "age = int(input('Please enter your age: '))\n",
    "name = input('Please enter your name: ')\n",
    "gender = input('Please enter your gender: ')\n",
    "print('Age: ',age,'\\nName: ',name,'\\nGender: ',gender)"
   ]
  }
 ],
 "metadata": {
  "kernelspec": {
   "display_name": "Python 3",
   "language": "python",
   "name": "python3"
  },
  "language_info": {
   "codemirror_mode": {
    "name": "ipython",
    "version": 3
   },
   "file_extension": ".py",
   "mimetype": "text/x-python",
   "name": "python",
   "nbconvert_exporter": "python",
   "pygments_lexer": "ipython3",
   "version": "3.8.5"
  }
 },
 "nbformat": 4,
 "nbformat_minor": 2
}
