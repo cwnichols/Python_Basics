{
 "cells": [
  {
   "cell_type": "markdown",
   "metadata": {},
   "source": [
    "## Loops"
   ]
  },
  {
   "cell_type": "code",
   "execution_count": 2,
   "metadata": {},
   "outputs": [
    {
     "name": "stdout",
     "output_type": "stream",
     "text": [
      "136\n"
     ]
    }
   ],
   "source": [
    "# you can use a break statement to stop the loop\n",
    "# you can also use a continue statement to continue the loop\n",
    "\n",
    "# for loop\n",
    "numbers = [2,4,6,8,10,12,14,16,18,19,27]\n",
    "sum_numbers = 0\n",
    "for val in numbers: # used to look at members of a set\n",
    "    sum_numbers = sum_numbers+val\n",
    "    \n",
    "print(sum_numbers)\n",
    "\n"
   ]
  },
  {
   "cell_type": "code",
   "execution_count": 8,
   "metadata": {},
   "outputs": [
    {
     "name": "stdout",
     "output_type": "stream",
     "text": [
      "0\n"
     ]
    }
   ],
   "source": [
    "A = 'abcde'\n",
    "\n",
    "for i in range(len(A)):\n",
    "    if i%2==0:\n",
    "        print(i)\n",
    "    else:\n",
    "        break"
   ]
  },
  {
   "cell_type": "code",
   "execution_count": 9,
   "metadata": {},
   "outputs": [
    {
     "name": "stdout",
     "output_type": "stream",
     "text": [
      "0\n"
     ]
    }
   ],
   "source": [
    "A = '0123'\n",
    "\n",
    "for i in range(len(A)):\n",
    "    if i%2==0:\n",
    "        print(A[i])\n",
    "    else:\n",
    "        break"
   ]
  },
  {
   "cell_type": "code",
   "execution_count": 6,
   "metadata": {},
   "outputs": [
    {
     "name": "stdout",
     "output_type": "stream",
     "text": [
      "\n",
      "B\n",
      "CC\n",
      "DDD\n",
      "EEEE\n",
      "FFFFF\n",
      "GGGGGG\n"
     ]
    }
   ],
   "source": [
    "A = 'ABCDEFG'\n",
    "\n",
    "for i in range(len(A)):\n",
    "    print(A[i]*i)"
   ]
  },
  {
   "cell_type": "code",
   "execution_count": 7,
   "metadata": {},
   "outputs": [
    {
     "name": "stdout",
     "output_type": "stream",
     "text": [
      "00\n",
      "11\n",
      "22\n",
      "33\n",
      "44\n",
      "55\n",
      "66\n"
     ]
    }
   ],
   "source": [
    "A = 'ABCDEFG'\n",
    "\n",
    "for i in [0, 1, 2, 3, 4, 5, 6]:\n",
    "    print(str(i)*2)"
   ]
  },
  {
   "cell_type": "code",
   "execution_count": 5,
   "metadata": {},
   "outputs": [
    {
     "name": "stdout",
     "output_type": "stream",
     "text": [
      "The sum of the first 9 integers:  45\n"
     ]
    }
   ],
   "source": [
    "# while loop - remember you probably always need a else statement\n",
    "a=0\n",
    "b=0\n",
    "while (a<10):\n",
    "    b=b+a\n",
    "    a=a+1\n",
    "else:\n",
    "    print('The sum of the first 9 integers: ',b)"
   ]
  }
 ],
 "metadata": {
  "kernelspec": {
   "display_name": "Python 3",
   "language": "python",
   "name": "python3"
  },
  "language_info": {
   "codemirror_mode": {
    "name": "ipython",
    "version": 3
   },
   "file_extension": ".py",
   "mimetype": "text/x-python",
   "name": "python",
   "nbconvert_exporter": "python",
   "pygments_lexer": "ipython3",
   "version": "3.8.5"
  }
 },
 "nbformat": 4,
 "nbformat_minor": 4
}
