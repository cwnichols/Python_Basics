{
 "cells": [
  {
   "cell_type": "markdown",
   "metadata": {},
   "source": [
    "## Introduction to Dictionaries"
   ]
  },
  {
   "cell_type": "code",
   "execution_count": 1,
   "metadata": {},
   "outputs": [
    {
     "name": "stdout",
     "output_type": "stream",
     "text": [
      "{'Chris': 10000, 'Jessica': 12000, 'Riley': 4500, 'Katherine': 5200}\n"
     ]
    }
   ],
   "source": [
    "balance = {\n",
    "    'Chris' : 10000,\n",
    "    'Jessica' : 12000,\n",
    "    'Riley' : 4500,\n",
    "    'Katherine' : 5200\n",
    "}\n",
    "print(balance)"
   ]
  },
  {
   "cell_type": "code",
   "execution_count": 2,
   "metadata": {},
   "outputs": [
    {
     "name": "stdout",
     "output_type": "stream",
     "text": [
      "{0: [], 1: [1], 2: [2, 2], 3: [3, 3, 3]}\n"
     ]
    }
   ],
   "source": [
    "Dict = { 0 : [], 1 : [1], 2: [2, 2], 3: [3, 3, 3]}\n",
    "\n",
    "print(Dict)"
   ]
  },
  {
   "cell_type": "markdown",
   "metadata": {},
   "source": [
    "## Accessing Items"
   ]
  },
  {
   "cell_type": "code",
   "execution_count": 3,
   "metadata": {},
   "outputs": [
    {
     "data": {
      "text/plain": [
       "10000"
      ]
     },
     "execution_count": 3,
     "metadata": {},
     "output_type": "execute_result"
    }
   ],
   "source": [
    "balance[\"Chris\"] # use the key to find the value"
   ]
  },
  {
   "cell_type": "code",
   "execution_count": 4,
   "metadata": {},
   "outputs": [
    {
     "data": {
      "text/plain": [
       "10000"
      ]
     },
     "execution_count": 4,
     "metadata": {},
     "output_type": "execute_result"
    }
   ],
   "source": [
    "balance.get(\"Chris\") # using a method"
   ]
  },
  {
   "cell_type": "code",
   "execution_count": 5,
   "metadata": {},
   "outputs": [
    {
     "name": "stdout",
     "output_type": "stream",
     "text": [
      "A2\n"
     ]
    }
   ],
   "source": [
    "Dict = {'A1': 'A1','A2': 'A2','A3': {'A1': 'A1','A2': 'A2','A3': 'A3'}}\n",
    "print(Dict['A2'])"
   ]
  },
  {
   "cell_type": "code",
   "execution_count": 6,
   "metadata": {},
   "outputs": [
    {
     "name": "stdout",
     "output_type": "stream",
     "text": [
      "A3\n"
     ]
    }
   ],
   "source": [
    "Dict = {'A1': 'A1','A2': 'A2','A3': {'A1': 'A1','A2': 'A2','A3': 'A3'}}\n",
    "print(Dict['A3']['A3'])"
   ]
  },
  {
   "cell_type": "markdown",
   "metadata": {},
   "source": [
    "## Change Values"
   ]
  },
  {
   "cell_type": "code",
   "execution_count": 7,
   "metadata": {},
   "outputs": [
    {
     "name": "stdout",
     "output_type": "stream",
     "text": [
      "12000\n"
     ]
    }
   ],
   "source": [
    "# change the values\n",
    "balance['Chris']=12000\n",
    "print(balance['Chris'])"
   ]
  },
  {
   "cell_type": "code",
   "execution_count": 8,
   "metadata": {},
   "outputs": [
    {
     "name": "stdout",
     "output_type": "stream",
     "text": [
      "4\n"
     ]
    }
   ],
   "source": [
    "print(len(balance))"
   ]
  },
  {
   "cell_type": "code",
   "execution_count": 10,
   "metadata": {},
   "outputs": [
    {
     "name": "stdout",
     "output_type": "stream",
     "text": [
      "{'Chris': 12000, 'Jessica': 12000, 'Riley': 4500, 'Katherine': 5200, 'Renee': 20000}\n"
     ]
    }
   ],
   "source": [
    "balance['Renee']=20000 # append because it didn't find the key\n",
    "print(balance)"
   ]
  },
  {
   "cell_type": "code",
   "execution_count": 11,
   "metadata": {},
   "outputs": [
    {
     "name": "stdout",
     "output_type": "stream",
     "text": [
      "{'Chris': 12000, 'Jessica': 12000, 'Riley': 4500, 'Katherine': 5200, 'Renee': 22000}\n"
     ]
    }
   ],
   "source": [
    "balance['Renee']=22000 # updated because it found the key\n",
    "print(balance)"
   ]
  },
  {
   "cell_type": "markdown",
   "metadata": {},
   "source": [
    "## Dictionary Methods"
   ]
  },
  {
   "cell_type": "code",
   "execution_count": 14,
   "metadata": {},
   "outputs": [
    {
     "name": "stdout",
     "output_type": "stream",
     "text": [
      "{'Chris': 12000, 'Jessica': 12000, 'Riley': 4500, 'Katherine': 5200}\n"
     ]
    }
   ],
   "source": [
    "# use del keyword to deletes an item\n",
    "#popitem() removes the last item in the dictionary if you use without the key\n",
    "balance.popitem()\n",
    "print(balance)"
   ]
  },
  {
   "cell_type": "code",
   "execution_count": null,
   "metadata": {},
   "outputs": [],
   "source": [
    "balance.clear() # clears the dictionary -- be careful!"
   ]
  },
  {
   "cell_type": "code",
   "execution_count": 15,
   "metadata": {},
   "outputs": [
    {
     "name": "stdout",
     "output_type": "stream",
     "text": [
      "{'Chris': 12000, 'Jessica': 12000, 'Riley': 4500, 'Katherine': 5200}\n"
     ]
    }
   ],
   "source": [
    "balance2 = balance.copy() # copy must be explicitly not just balance2=balance\n",
    "print(balance2)"
   ]
  },
  {
   "cell_type": "code",
   "execution_count": null,
   "metadata": {},
   "outputs": [],
   "source": [
    "#sorted() function will sort the keys not the values\n",
    "#update() function can also be used to updated values"
   ]
  },
  {
   "cell_type": "code",
   "execution_count": 16,
   "metadata": {},
   "outputs": [
    {
     "name": "stdout",
     "output_type": "stream",
     "text": [
      "{}\n"
     ]
    }
   ],
   "source": [
    "A={}\n",
    "A1 = A\n",
    "A.update(A1)\n",
    "print(A)"
   ]
  },
  {
   "cell_type": "code",
   "execution_count": 17,
   "metadata": {},
   "outputs": [
    {
     "data": {
      "text/plain": [
       "['A', 'B', 'C']"
      ]
     },
     "execution_count": 17,
     "metadata": {},
     "output_type": "execute_result"
    }
   ],
   "source": [
    "A={'A':1,'C':2,'B':3}\n",
    "sorted(A)"
   ]
  },
  {
   "cell_type": "code",
   "execution_count": 18,
   "metadata": {},
   "outputs": [
    {
     "name": "stdout",
     "output_type": "stream",
     "text": [
      "{'B': 2, 'C': 3}\n"
     ]
    }
   ],
   "source": [
    "A={'A':1,'B':2,'C':3}\n",
    "B=A\n",
    "del B['A']\n",
    "print(A)"
   ]
  },
  {
   "cell_type": "code",
   "execution_count": null,
   "metadata": {},
   "outputs": [],
   "source": []
  }
 ],
 "metadata": {
  "kernelspec": {
   "display_name": "Python 3",
   "language": "python",
   "name": "python3"
  },
  "language_info": {
   "codemirror_mode": {
    "name": "ipython",
    "version": 3
   },
   "file_extension": ".py",
   "mimetype": "text/x-python",
   "name": "python",
   "nbconvert_exporter": "python",
   "pygments_lexer": "ipython3",
   "version": "3.8.5"
  }
 },
 "nbformat": 4,
 "nbformat_minor": 4
}
