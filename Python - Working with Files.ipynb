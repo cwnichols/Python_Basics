{
 "cells": [
  {
   "cell_type": "code",
   "execution_count": 1,
   "metadata": {},
   "outputs": [],
   "source": [
    "import pandas as pd"
   ]
  },
  {
   "cell_type": "markdown",
   "metadata": {},
   "source": [
    "data = pd.read_csv()\n",
    "type(data)\n",
    "data.head()\n",
    "data.tail()\n",
    "# central tendency\n",
    "data.<column>.mean()\n",
    "data.<column>.median()\n",
    "data.<column>.mode()\n",
    "\n",
    "# dispersion\n",
    "my_range = data.<column>.max() - data.<column>.min()\n",
    "\n",
    "import numpy as np\n",
    "np.var(data.<column>)\n",
    "np.std(data.<column>)\n",
    "# IQR\n",
    "q1 = np.percentile(data.<column>,25, interpolation='midpoint')\n",
    "q3 = np.percentile(data.<column>,75, interpolation='midpoint')\n",
    "iqr = q3 - q1\n",
    "    \n",
    "import matplotlib.pyplot as plt\n",
    "data.head()\n",
    "data.columns\n",
    "\n",
    "#box plot\n",
    "plt.figure(figsize=(10,6))\n",
    "plt.boxplot(data.<column>)\n",
    "plt.show()\n",
    "    \n",
    "#correlation\n",
    "data.corr()\n",
    "\n",
    "data.describe()"
   ]
  },
  {
   "cell_type": "code",
   "execution_count": null,
   "metadata": {},
   "outputs": [],
   "source": []
  }
 ],
 "metadata": {
  "kernelspec": {
   "display_name": "Python 3",
   "language": "python",
   "name": "python3"
  },
  "language_info": {
   "codemirror_mode": {
    "name": "ipython",
    "version": 3
   },
   "file_extension": ".py",
   "mimetype": "text/x-python",
   "name": "python",
   "nbconvert_exporter": "python",
   "pygments_lexer": "ipython3",
   "version": "3.8.5"
  }
 },
 "nbformat": 4,
 "nbformat_minor": 4
}
