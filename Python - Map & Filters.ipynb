{
 "cells": [
  {
   "cell_type": "markdown",
   "metadata": {},
   "source": [
    "## Map & Filters"
   ]
  },
  {
   "cell_type": "code",
   "execution_count": 1,
   "metadata": {},
   "outputs": [
    {
     "name": "stdout",
     "output_type": "stream",
     "text": [
      "[44.44444444444444, 51.111111111111114, 75.55555555555556, 100.0, 73.33333333333333, 22.22222222222222, 95.55555555555556, 51.111111111111114, 60.0, 75.55555555555556, 82.22222222222223, 97.77777777777777, 93.33333333333333, 95.55555555555556]\n"
     ]
    }
   ],
   "source": [
    "#map\n",
    "# test scores with 45 being the max score. how to compute the % of each score\n",
    "marks = [20,23,34,45,33,10,43,23,27,34,37,44,42,43]\n",
    "print(list(map(lambda x, y=100: x*y/45, marks)))"
   ]
  },
  {
   "cell_type": "code",
   "execution_count": 6,
   "metadata": {},
   "outputs": [
    {
     "name": "stdout",
     "output_type": "stream",
     "text": [
      "<class 'filter'>\n",
      "[34, 458, 456, 578]\n"
     ]
    }
   ],
   "source": [
    "#filters\n",
    "numbers = [121,443,477,125,34,655,458,141,363,125,456,578,123]\n",
    "\n",
    "#function that filters the numbers\n",
    "def evennumber(x):\n",
    "    if(x%2)==0:\n",
    "        return True\n",
    "    else:\n",
    "        return False\n",
    "    \n",
    "out_filter_number = filter(evennumber,numbers)\n",
    "print(type(out_filter_number))\n",
    "print(list(out_filter_number))"
   ]
  },
  {
   "cell_type": "code",
   "execution_count": 7,
   "metadata": {},
   "outputs": [
    {
     "name": "stdout",
     "output_type": "stream",
     "text": [
      "[1, 9, 25, 49, 81, 121, 169, 225, 289, 361, 441, 529, 625, 729, 841, 961, 1089, 1225, 1369, 1521, 1681, 1849, 2025, 2209, 2401]\n"
     ]
    }
   ],
   "source": [
    "# sum of cubes of odd numbers from 1 to 50\n",
    "\n",
    "def cube(x):\n",
    "    return(x*x)\n",
    "\n",
    "def isodd(x):\n",
    "    return(x%2==1)\n",
    "\n",
    "#create a list of all cubes\n",
    "list_cubes = list(map(cube,filter(isodd,range(1,50))))\n",
    "print(list_cubes)"
   ]
  },
  {
   "cell_type": "code",
   "execution_count": 9,
   "metadata": {},
   "outputs": [
    {
     "name": "stdout",
     "output_type": "stream",
     "text": [
      "[4, 16, 36, 64, 100, 144, 196, 256, 324, 400, 484, 576, 676, 784, 900, 1024, 1156, 1296, 1444, 1600, 1764, 1936, 2116, 2304]\n"
     ]
    },
    {
     "data": {
      "text/plain": [
       "19600"
      ]
     },
     "execution_count": 9,
     "metadata": {},
     "output_type": "execute_result"
    }
   ],
   "source": [
    "# sum the square of even number from 1 to 50\n",
    "def square(x):\n",
    "    return (x**2)\n",
    "\n",
    "def iseven(x):\n",
    "    return(x%2==0)\n",
    "\n",
    "list_squares = list(map(square,filter(iseven,range(1,50))))\n",
    "print(list_squares)\n",
    "sum(list_squares)"
   ]
  },
  {
   "cell_type": "code",
   "execution_count": 10,
   "metadata": {},
   "outputs": [
    {
     "name": "stdout",
     "output_type": "stream",
     "text": [
      "[1, 2, 5, 10, 17]\n"
     ]
    }
   ],
   "source": [
    "A= list(range(5))\n",
    "B = map(lambda x: (x * x)+1, A)\n",
    "print(list(B))"
   ]
  },
  {
   "cell_type": "code",
   "execution_count": 11,
   "metadata": {},
   "outputs": [
    {
     "name": "stdout",
     "output_type": "stream",
     "text": [
      "[1, 4, 9, 16]\n"
     ]
    }
   ],
   "source": [
    "def calculateSquare(n):\n",
    "  return n*n\n",
    "numbers = (1, 2, 3, 4)\n",
    "result = list(map(calculateSquare, numbers))\n",
    "print(result)"
   ]
  },
  {
   "cell_type": "code",
   "execution_count": 12,
   "metadata": {},
   "outputs": [
    {
     "name": "stdout",
     "output_type": "stream",
     "text": [
      "[6]\n"
     ]
    }
   ],
   "source": [
    "def filterdata(x):\n",
    "  if x>5:\n",
    "    return x\n",
    "\n",
    "result = filter(filterdata,(1,2,6))\n",
    "print(list(result))"
   ]
  },
  {
   "cell_type": "code",
   "execution_count": null,
   "metadata": {},
   "outputs": [],
   "source": []
  }
 ],
 "metadata": {
  "kernelspec": {
   "display_name": "Python 3",
   "language": "python",
   "name": "python3"
  },
  "language_info": {
   "codemirror_mode": {
    "name": "ipython",
    "version": 3
   },
   "file_extension": ".py",
   "mimetype": "text/x-python",
   "name": "python",
   "nbconvert_exporter": "python",
   "pygments_lexer": "ipython3",
   "version": "3.8.5"
  }
 },
 "nbformat": 4,
 "nbformat_minor": 4
}
