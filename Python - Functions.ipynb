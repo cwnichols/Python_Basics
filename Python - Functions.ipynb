{
 "cells": [
  {
   "cell_type": "markdown",
   "metadata": {},
   "source": [
    "## Functions"
   ]
  },
  {
   "cell_type": "markdown",
   "metadata": {},
   "source": [
    "def fun(params): <br>\n",
    "    ...statement1<br>\n",
    "    ...statement2"
   ]
  },
  {
   "cell_type": "code",
   "execution_count": 1,
   "metadata": {},
   "outputs": [],
   "source": [
    "def twice():\n",
    "    a=int(input('Enter a number: '))\n",
    "    print(a*2)"
   ]
  },
  {
   "cell_type": "code",
   "execution_count": 2,
   "metadata": {},
   "outputs": [
    {
     "name": "stdout",
     "output_type": "stream",
     "text": [
      "Enter a number: 2\n",
      "4\n"
     ]
    }
   ],
   "source": [
    "twice()"
   ]
  },
  {
   "cell_type": "code",
   "execution_count": 3,
   "metadata": {},
   "outputs": [
    {
     "name": "stdout",
     "output_type": "stream",
     "text": [
      "Enter a number: 14\n",
      "28\n"
     ]
    }
   ],
   "source": [
    "twice()"
   ]
  },
  {
   "cell_type": "code",
   "execution_count": 6,
   "metadata": {},
   "outputs": [],
   "source": [
    "def squared(input_int):\n",
    "    print(input_int*input_int)"
   ]
  },
  {
   "cell_type": "code",
   "execution_count": 7,
   "metadata": {},
   "outputs": [
    {
     "name": "stdout",
     "output_type": "stream",
     "text": [
      "16\n"
     ]
    }
   ],
   "source": [
    "squared(4)"
   ]
  },
  {
   "cell_type": "code",
   "execution_count": 8,
   "metadata": {},
   "outputs": [
    {
     "name": "stdout",
     "output_type": "stream",
     "text": [
      "196\n"
     ]
    }
   ],
   "source": [
    "squared(14)"
   ]
  },
  {
   "cell_type": "code",
   "execution_count": 10,
   "metadata": {},
   "outputs": [
    {
     "name": "stdout",
     "output_type": "stream",
     "text": [
      "I love my pets\n"
     ]
    }
   ],
   "source": [
    "def MyPet():\n",
    "   print('I have 2 pets')\n",
    "print('I love my pets')"
   ]
  },
  {
   "cell_type": "code",
   "execution_count": 15,
   "metadata": {},
   "outputs": [
    {
     "name": "stdout",
     "output_type": "stream",
     "text": [
      "14.333333333333334\n"
     ]
    }
   ],
   "source": [
    "def average(x):\n",
    "    count=0\n",
    "    total=0\n",
    "    for i in x:\n",
    "        count += 1\n",
    "        total +=i\n",
    "    avg=total/count\n",
    "    return avg\n",
    "\n",
    "x = (45,73,-109,62,34,-19)\n",
    "print(average(x))"
   ]
  },
  {
   "cell_type": "code",
   "execution_count": 17,
   "metadata": {},
   "outputs": [
    {
     "name": "stdout",
     "output_type": "stream",
     "text": [
      "1.5\n"
     ]
    }
   ],
   "source": [
    "print(average([1,2]))"
   ]
  },
  {
   "cell_type": "code",
   "execution_count": 18,
   "metadata": {},
   "outputs": [
    {
     "name": "stdout",
     "output_type": "stream",
     "text": [
      "It is  0\n",
      "It is  1\n",
      "It is  2\n",
      "It is  3\n",
      "It is  4\n"
     ]
    }
   ],
   "source": [
    "a= '01234'\n",
    "\n",
    "def ABC(a):\n",
    "    for i in range(len(a)):\n",
    "        print('It is ',str(i))\n",
    "\n",
    "b='ABCDE'\n",
    "ABC(b)"
   ]
  },
  {
   "cell_type": "code",
   "execution_count": 19,
   "metadata": {},
   "outputs": [
    {
     "name": "stdout",
     "output_type": "stream",
     "text": [
      "It is  A\n",
      "It is  B\n",
      "It is  C\n",
      "It is  D\n",
      "It is  E\n"
     ]
    }
   ],
   "source": [
    "def ABC(a):\n",
    "    a= 'ABCDE'\n",
    "    for i in a:\n",
    "        print('It is ',str(i))\n",
    "\n",
    "b='01234'\n",
    "ABC(b)"
   ]
  },
  {
   "cell_type": "code",
   "execution_count": 20,
   "metadata": {},
   "outputs": [
    {
     "name": "stdout",
     "output_type": "stream",
     "text": [
      "yo\n",
      "yo\n",
      "what's\n",
      "up\n"
     ]
    }
   ],
   "source": [
    "# functions with multiple arguments\n",
    "def multiple(*args):\n",
    "    for parameter in args:\n",
    "        print(parameter)\n",
    "        \n",
    "multiple(\"yo\",\"yo\",\"what's\",\"up\")"
   ]
  },
  {
   "cell_type": "code",
   "execution_count": 21,
   "metadata": {},
   "outputs": [
    {
     "name": "stdout",
     "output_type": "stream",
     "text": [
      "A == First letter\n",
      "B == Second letter\n",
      "C == Third letter\n"
     ]
    }
   ],
   "source": [
    "def function(**kwargs):\n",
    "    for a,b in kwargs.items():\n",
    "        print(a,\"==\",b)\n",
    "        \n",
    "a=function(A=\"First letter\",B=\"Second letter\",C=\"Third letter\")"
   ]
  },
  {
   "cell_type": "code",
   "execution_count": 22,
   "metadata": {},
   "outputs": [
    {
     "name": "stdout",
     "output_type": "stream",
     "text": [
      "(12, 132, 216)\n"
     ]
    }
   ],
   "source": [
    "#Define Function with Multiple Arguments \n",
    "\n",
    "def func1(a,b,c):\n",
    "    a = a + 1\n",
    "    b = b + 2\n",
    "    c = c + 3\n",
    "    return a+b+c\n",
    "\n",
    "def func2(a,b,c):\n",
    "    a = a * 1\n",
    "    b = b * 2\n",
    "    c = c * 3 \n",
    "    return a,b,c\n",
    "\n",
    "print(func2(func1(1,2,3),func1(10,20,30),func1(11,22,33)))"
   ]
  },
  {
   "cell_type": "code",
   "execution_count": 24,
   "metadata": {},
   "outputs": [
    {
     "data": {
      "text/plain": [
       "34"
      ]
     },
     "execution_count": 24,
     "metadata": {},
     "output_type": "execute_result"
    }
   ],
   "source": [
    "#lambda functions\n",
    "#creating a function on the fly without creating a def function\n",
    "# useful if you are creating something that you don't need to use over and over in your code\n",
    "min_value = (lambda x,y: x if x<y else y)\n",
    "min_value(34,78)"
   ]
  },
  {
   "cell_type": "code",
   "execution_count": 26,
   "metadata": {},
   "outputs": [
    {
     "data": {
      "text/plain": [
       "False"
      ]
     },
     "execution_count": 26,
     "metadata": {},
     "output_type": "execute_result"
    }
   ],
   "source": [
    "# are two strings equal\n",
    "strings_equal = (lambda x,y: True if x==y else False)\n",
    "strings_equal('Chris','Jessica')"
   ]
  },
  {
   "cell_type": "code",
   "execution_count": 28,
   "metadata": {},
   "outputs": [
    {
     "name": "stdout",
     "output_type": "stream",
     "text": [
      "9\n"
     ]
    }
   ],
   "source": [
    "def func(x):\n",
    "    return lambda y: (x + y + 1)\n",
    "\n",
    "def func1(x):\n",
    "    return lambda y : (func(x)(x)+y+1)\n",
    "\n",
    "print(func1(3)(1))"
   ]
  }
 ],
 "metadata": {
  "kernelspec": {
   "display_name": "Python 3",
   "language": "python",
   "name": "python3"
  },
  "language_info": {
   "codemirror_mode": {
    "name": "ipython",
    "version": 3
   },
   "file_extension": ".py",
   "mimetype": "text/x-python",
   "name": "python",
   "nbconvert_exporter": "python",
   "pygments_lexer": "ipython3",
   "version": "3.8.5"
  }
 },
 "nbformat": 4,
 "nbformat_minor": 4
}
