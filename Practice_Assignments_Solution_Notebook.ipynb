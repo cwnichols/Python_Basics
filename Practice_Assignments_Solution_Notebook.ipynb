{
 "cells": [
  {
   "cell_type": "markdown",
   "metadata": {
    "id": "b2a78f65"
   },
   "source": [
    "## 1.5 Practice Assignment - Operations on strings\n",
    "\n",
    "### 1). Given a string - 'Today is a sunny day'\n",
    "\n",
    "#### a). Write a code to extract the words 'Today and ‘sunny'\n",
    "\n",
    "#### b). Obtain the last 2 letters - 'ay'\n",
    "\n",
    "#### c). Write the statement backwards\n"
   ]
  },
  {
   "cell_type": "code",
   "execution_count": 1,
   "metadata": {
    "id": "a92c2a21"
   },
   "outputs": [],
   "source": [
    "#define the string \n",
    "s= \"Today is a sunny day\""
   ]
  },
  {
   "cell_type": "code",
   "execution_count": 2,
   "metadata": {
    "colab": {
     "base_uri": "https://localhost:8080/"
    },
    "id": "998b4d9c",
    "outputId": "11739595-52ac-442b-fe2e-a41971a40422"
   },
   "outputs": [
    {
     "name": "stdout",
     "output_type": "stream",
     "text": [
      "Today sunny\n"
     ]
    }
   ],
   "source": [
    "# question a\n",
    "l=s.split()\n",
    "\n",
    "print(l[0],l[3])"
   ]
  },
  {
   "cell_type": "code",
   "execution_count": 3,
   "metadata": {
    "colab": {
     "base_uri": "https://localhost:8080/",
     "height": 36
    },
    "id": "d1055569",
    "outputId": "a7763b81-80b9-46af-f367-3864656c65c7"
   },
   "outputs": [
    {
     "data": {
      "application/vnd.google.colaboratory.intrinsic+json": {
       "type": "string"
      },
      "text/plain": [
       "'ay'"
      ]
     },
     "execution_count": 3,
     "metadata": {
      "tags": []
     },
     "output_type": "execute_result"
    }
   ],
   "source": [
    "# question b\n",
    "s[-2:]"
   ]
  },
  {
   "cell_type": "code",
   "execution_count": 4,
   "metadata": {
    "colab": {
     "base_uri": "https://localhost:8080/",
     "height": 36
    },
    "id": "335d277e",
    "outputId": "55af32ae-b36b-4d63-9b62-848c027b9b67"
   },
   "outputs": [
    {
     "data": {
      "application/vnd.google.colaboratory.intrinsic+json": {
       "type": "string"
      },
      "text/plain": [
       "'yad ynnus a si yadoT'"
      ]
     },
     "execution_count": 4,
     "metadata": {
      "tags": []
     },
     "output_type": "execute_result"
    }
   ],
   "source": [
    "#question c\n",
    "s[::-1]"
   ]
  },
  {
   "cell_type": "markdown",
   "metadata": {
    "id": "fd06a13d"
   },
   "source": [
    "### 2). Concatenate the variables num = 34 and string ='How old are you?'  using '+' operator."
   ]
  },
  {
   "cell_type": "code",
   "execution_count": 5,
   "metadata": {
    "colab": {
     "base_uri": "https://localhost:8080/",
     "height": 36
    },
    "id": "30bf4a5e",
    "outputId": "23a498dd-07e4-446f-d8f6-8a3a84ae975d"
   },
   "outputs": [
    {
     "data": {
      "application/vnd.google.colaboratory.intrinsic+json": {
       "type": "string"
      },
      "text/plain": [
       "'How old are you?34'"
      ]
     },
     "execution_count": 5,
     "metadata": {
      "tags": []
     },
     "output_type": "execute_result"
    }
   ],
   "source": [
    "num=34\n",
    "string='How old are you?'\n",
    "\n",
    "string + str(num)"
   ]
  },
  {
   "cell_type": "markdown",
   "metadata": {
    "id": "b347871e"
   },
   "source": [
    "## 1.9 Practice Assignment- User input\n",
    "### 1. Write a program to print the integer and string given, take the input from the user.\n",
    "\n",
    "#### Integer = 22\n",
    "#### String = 'Great Learning'\n"
   ]
  },
  {
   "cell_type": "code",
   "execution_count": 6,
   "metadata": {
    "colab": {
     "base_uri": "https://localhost:8080/"
    },
    "id": "49680d8b",
    "outputId": "e16d1094-f529-46ee-870f-fc5c94d5d86a"
   },
   "outputs": [
    {
     "name": "stdout",
     "output_type": "stream",
     "text": [
      "22\n"
     ]
    }
   ],
   "source": [
    "integer=int(input())"
   ]
  },
  {
   "cell_type": "code",
   "execution_count": 7,
   "metadata": {
    "colab": {
     "base_uri": "https://localhost:8080/"
    },
    "id": "b3875972",
    "outputId": "ab69e0f5-fbc0-49f0-97f2-59f127f25876"
   },
   "outputs": [
    {
     "name": "stdout",
     "output_type": "stream",
     "text": [
      "Great Learning\n"
     ]
    }
   ],
   "source": [
    "string=input()"
   ]
  },
  {
   "cell_type": "code",
   "execution_count": 8,
   "metadata": {
    "colab": {
     "base_uri": "https://localhost:8080/"
    },
    "id": "47a5af33",
    "outputId": "aa28dc0a-b966-467f-b005-3a917be53e3d"
   },
   "outputs": [
    {
     "name": "stdout",
     "output_type": "stream",
     "text": [
      "22\n",
      "Great Learning\n"
     ]
    }
   ],
   "source": [
    "print(integer)\n",
    "print(string)"
   ]
  },
  {
   "cell_type": "markdown",
   "metadata": {
    "id": "e299893b"
   },
   "source": [
    "### 2. Write a program that takes age, name and gender of the user as input "
   ]
  },
  {
   "cell_type": "code",
   "execution_count": 9,
   "metadata": {
    "colab": {
     "base_uri": "https://localhost:8080/"
    },
    "id": "7468997b",
    "outputId": "8855460f-2845-4bd8-de65-335c36dfe385"
   },
   "outputs": [
    {
     "name": "stdout",
     "output_type": "stream",
     "text": [
      "Enter age 12\n",
      "Enter name john\n",
      "Enter gender male\n"
     ]
    }
   ],
   "source": [
    "age=int(input('Enter age '))\n",
    "name=input('Enter name ')\n",
    "gender=input('Enter gender ')"
   ]
  },
  {
   "cell_type": "markdown",
   "metadata": {
    "id": "b1678395"
   },
   "source": [
    "## 1.15 Practice Assignment- List Indexing\n",
    "**One can not perform element-wise multiplication of lists using the above method.** \n",
    "\n",
    "Write a code to retrieve elements from a list:\n",
    "a. Second last element\n",
    "b. First three elements \n",
    "\n",
    "**Use the below list**\n",
    "\n",
    "list1 = ['Python', 1, 2, 3, 'Data', True] "
   ]
  },
  {
   "cell_type": "markdown",
   "metadata": {
    "id": "15546ea7"
   },
   "source": [
    "**a. Second last element**"
   ]
  },
  {
   "cell_type": "code",
   "execution_count": 10,
   "metadata": {
    "id": "87bc283e"
   },
   "outputs": [],
   "source": [
    "#defining the list\n",
    "list1 = ['Python', 1, 2, 3, 'Data', True] "
   ]
  },
  {
   "cell_type": "code",
   "execution_count": 11,
   "metadata": {
    "colab": {
     "base_uri": "https://localhost:8080/",
     "height": 36
    },
    "id": "8d6d9c34",
    "outputId": "76e4edf2-40bd-4790-dd95-722514e42c65"
   },
   "outputs": [
    {
     "data": {
      "application/vnd.google.colaboratory.intrinsic+json": {
       "type": "string"
      },
      "text/plain": [
       "'Data'"
      ]
     },
     "execution_count": 11,
     "metadata": {
      "tags": []
     },
     "output_type": "execute_result"
    }
   ],
   "source": [
    "# question a\n",
    "list1[-2]"
   ]
  },
  {
   "cell_type": "markdown",
   "metadata": {
    "id": "37878780"
   },
   "source": [
    "**b. First element of list**"
   ]
  },
  {
   "cell_type": "code",
   "execution_count": 12,
   "metadata": {
    "colab": {
     "base_uri": "https://localhost:8080/",
     "height": 36
    },
    "id": "5b76cdf6",
    "outputId": "8569d195-24d4-43a8-dec6-1343fae8e4f6"
   },
   "outputs": [
    {
     "data": {
      "application/vnd.google.colaboratory.intrinsic+json": {
       "type": "string"
      },
      "text/plain": [
       "'Python'"
      ]
     },
     "execution_count": 12,
     "metadata": {
      "tags": []
     },
     "output_type": "execute_result"
    }
   ],
   "source": [
    "#question b\n",
    "list1[0]"
   ]
  },
  {
   "cell_type": "markdown",
   "metadata": {
    "id": "aa0d0a5a"
   },
   "source": [
    "## 1.16 Practice Assignment- List Slicing\n",
    "\n",
    "**One can not perform element-wise multiplication of lists using the above method.** \n",
    "\n",
    "**Use the below list**\n",
    "\n",
    "list1 = ['Python', 1, 2, 3, 'Data', True] "
   ]
  },
  {
   "cell_type": "markdown",
   "metadata": {
    "id": "d7445595"
   },
   "source": [
    "a. Extract first three elements of the list"
   ]
  },
  {
   "cell_type": "code",
   "execution_count": 13,
   "metadata": {
    "id": "53bba826"
   },
   "outputs": [],
   "source": [
    "#defining list\n",
    "list1 = ['Python', 1, 2, 3, 'Data', True] "
   ]
  },
  {
   "cell_type": "code",
   "execution_count": 14,
   "metadata": {
    "colab": {
     "base_uri": "https://localhost:8080/"
    },
    "id": "70711b80",
    "outputId": "a8cf269e-4765-4287-85ea-1ce2698187af"
   },
   "outputs": [
    {
     "data": {
      "text/plain": [
       "['Python', 1, 2]"
      ]
     },
     "execution_count": 14,
     "metadata": {
      "tags": []
     },
     "output_type": "execute_result"
    }
   ],
   "source": [
    "# question a\n",
    "list1[0:3]"
   ]
  },
  {
   "cell_type": "markdown",
   "metadata": {
    "id": "e9af5bec"
   },
   "source": [
    "b. Slice the list from 1st index till the last index with an increment of an index by 2 "
   ]
  },
  {
   "cell_type": "code",
   "execution_count": 15,
   "metadata": {
    "colab": {
     "base_uri": "https://localhost:8080/"
    },
    "id": "413d5b26",
    "outputId": "ee81dab9-d995-4bc2-fc0f-3dc266f98c46"
   },
   "outputs": [
    {
     "data": {
      "text/plain": [
       "['Python', 2, 'Data']"
      ]
     },
     "execution_count": 15,
     "metadata": {
      "tags": []
     },
     "output_type": "execute_result"
    }
   ],
   "source": [
    "#question b\n",
    "list1[::2]"
   ]
  },
  {
   "cell_type": "markdown",
   "metadata": {
    "id": "8a02df99"
   },
   "source": [
    "## 1.17 Practice Assignment- List Methods\n",
    "\n",
    "\n",
    "Write a program to perform following built-in list operations:\n",
    "\n",
    "a. Max(list)\n",
    "\n",
    "b. Sort the elements (Hint: Use sorted() function - sorted(list))\n",
    "\n",
    "c. Create a copy of a list\n",
    "\n",
    "d. Remove element '5' from the list"
   ]
  },
  {
   "cell_type": "markdown",
   "metadata": {
    "id": "98c3807f"
   },
   "source": [
    "**Use the below list**\n",
    "\n",
    "list1 = [4, 5, 7, -2, 0, 1] "
   ]
  },
  {
   "cell_type": "code",
   "execution_count": 16,
   "metadata": {
    "id": "1a0ab4fb"
   },
   "outputs": [],
   "source": [
    "#defining the list\n",
    "list1 = [4, 5, 7, -2, 0, 1] "
   ]
  },
  {
   "cell_type": "markdown",
   "metadata": {
    "id": "6ff83b6c"
   },
   "source": [
    "**a. Max(list)**"
   ]
  },
  {
   "cell_type": "code",
   "execution_count": 17,
   "metadata": {
    "colab": {
     "base_uri": "https://localhost:8080/"
    },
    "id": "c46e82b2",
    "outputId": "fd6d7dd0-9bf9-4503-d360-d82d2af7d697"
   },
   "outputs": [
    {
     "data": {
      "text/plain": [
       "7"
      ]
     },
     "execution_count": 17,
     "metadata": {
      "tags": []
     },
     "output_type": "execute_result"
    }
   ],
   "source": [
    "#question a\n",
    "max(list1)"
   ]
  },
  {
   "cell_type": "markdown",
   "metadata": {
    "id": "8d14be7f"
   },
   "source": [
    "**b. Sort the elements**"
   ]
  },
  {
   "cell_type": "code",
   "execution_count": 18,
   "metadata": {
    "colab": {
     "base_uri": "https://localhost:8080/"
    },
    "id": "ea6cd379",
    "outputId": "0690a753-3216-4d46-9d51-d67c424e5bb7"
   },
   "outputs": [
    {
     "data": {
      "text/plain": [
       "[-2, 0, 1, 4, 5, 7]"
      ]
     },
     "execution_count": 18,
     "metadata": {
      "tags": []
     },
     "output_type": "execute_result"
    }
   ],
   "source": [
    "#question b\n",
    "list1.sort()\n",
    "list1"
   ]
  },
  {
   "cell_type": "markdown",
   "metadata": {
    "id": "8bf90dc2"
   },
   "source": [
    "**c. Create a copy of a list**"
   ]
  },
  {
   "cell_type": "code",
   "execution_count": 19,
   "metadata": {
    "colab": {
     "base_uri": "https://localhost:8080/"
    },
    "id": "44aff5cf",
    "outputId": "1a2c9226-8d53-4102-f22e-a9ccb47e24dc"
   },
   "outputs": [
    {
     "data": {
      "text/plain": [
       "[-2, 0, 1, 4, 5, 7]"
      ]
     },
     "execution_count": 19,
     "metadata": {
      "tags": []
     },
     "output_type": "execute_result"
    }
   ],
   "source": [
    "#question c\n",
    "list2=list1.copy()\n",
    "list2"
   ]
  },
  {
   "cell_type": "markdown",
   "metadata": {
    "id": "939281a0"
   },
   "source": [
    "**d. Remove element '5' from the list**"
   ]
  },
  {
   "cell_type": "code",
   "execution_count": 20,
   "metadata": {
    "colab": {
     "base_uri": "https://localhost:8080/"
    },
    "id": "06c0221b",
    "outputId": "b3f4d308-4ea5-48cf-8be3-764d4c016f60"
   },
   "outputs": [
    {
     "data": {
      "text/plain": [
       "[-2, 0, 1, 4, 7]"
      ]
     },
     "execution_count": 20,
     "metadata": {
      "tags": []
     },
     "output_type": "execute_result"
    }
   ],
   "source": [
    "#question d\n",
    "list1.remove(5)\n",
    "list1"
   ]
  },
  {
   "cell_type": "markdown",
   "metadata": {
    "id": "39015131"
   },
   "source": [
    "### Manipulating a list:\n",
    "\n",
    "a. Add elements 'Excel' and 'Data' in the given list\n",
    "\n",
    "b. Replace an element 'C' with 'C++' in the given list\n",
    "\n",
    "Use the below list\n",
    "\n",
    "list1 = ['R', 'Python', 'C', 'Java']"
   ]
  },
  {
   "cell_type": "code",
   "execution_count": 21,
   "metadata": {
    "id": "7492bafa"
   },
   "outputs": [],
   "source": [
    "list1 = ['R', 'Python', 'C', 'Java']"
   ]
  },
  {
   "cell_type": "markdown",
   "metadata": {
    "id": "f8ee39bc"
   },
   "source": [
    "**a. Add elements 'Excel' and 'Data' in the given list**"
   ]
  },
  {
   "cell_type": "code",
   "execution_count": 22,
   "metadata": {
    "colab": {
     "base_uri": "https://localhost:8080/"
    },
    "id": "6e337001",
    "outputId": "a3ef185e-7288-489d-f121-093dd5404a92"
   },
   "outputs": [
    {
     "data": {
      "text/plain": [
       "['R', 'Python', 'C', 'Java', 'Excel', 'Data']"
      ]
     },
     "execution_count": 22,
     "metadata": {
      "tags": []
     },
     "output_type": "execute_result"
    }
   ],
   "source": [
    "#question a\n",
    "list1.append('Excel')\n",
    "list1.append('Data')\n",
    "list1"
   ]
  },
  {
   "cell_type": "markdown",
   "metadata": {
    "id": "3b813c2a"
   },
   "source": [
    "**b. Replace an element 'C' with 'C++' in the given list**"
   ]
  },
  {
   "cell_type": "code",
   "execution_count": 23,
   "metadata": {
    "colab": {
     "base_uri": "https://localhost:8080/"
    },
    "id": "e848fba1",
    "outputId": "3bc93ef0-4fb3-4fd8-e559-72b8160bf7f5"
   },
   "outputs": [
    {
     "data": {
      "text/plain": [
       "['R', 'Python', 'C++', 'Java', 'Excel', 'Data']"
      ]
     },
     "execution_count": 23,
     "metadata": {
      "tags": []
     },
     "output_type": "execute_result"
    }
   ],
   "source": [
    "#question b\n",
    "list1[2]='C++'\n",
    "list1"
   ]
  },
  {
   "cell_type": "markdown",
   "metadata": {
    "id": "5087ba80"
   },
   "source": [
    "## 1.21 Practice Assignment- Tuple Methods\n",
    "### Tuple manipulations:\n",
    "\n",
    "  - Q1. Counts the number of occurrences\n",
    "  - Q2. Replace an element"
   ]
  },
  {
   "cell_type": "markdown",
   "metadata": {
    "id": "2766678a"
   },
   "source": [
    "**Counts the number of occurrences of item 2 from the below tuple:**\n",
    "\n",
    "**tuple1 = (['a', 1, True], 2, 'Science', -5)**"
   ]
  },
  {
   "cell_type": "code",
   "execution_count": 24,
   "metadata": {
    "id": "e1ae8325"
   },
   "outputs": [],
   "source": [
    "#defining tuple\n",
    "tuple1 = (['a', 1, True], 2, 'Science', -5)"
   ]
  },
  {
   "cell_type": "code",
   "execution_count": 25,
   "metadata": {
    "colab": {
     "base_uri": "https://localhost:8080/"
    },
    "id": "64aed5ea",
    "outputId": "d0c96cab-7dc4-4177-f8ed-1f736f0f8717"
   },
   "outputs": [
    {
     "data": {
      "text/plain": [
       "1"
      ]
     },
     "execution_count": 25,
     "metadata": {
      "tags": []
     },
     "output_type": "execute_result"
    }
   ],
   "source": [
    "#question 1\n",
    "tuple1.count(2)"
   ]
  },
  {
   "cell_type": "markdown",
   "metadata": {
    "id": "6dee2025"
   },
   "source": [
    "**a. Add new element '4' to the given tuple**"
   ]
  },
  {
   "cell_type": "markdown",
   "metadata": {
    "id": "f5810bd1"
   },
   "source": [
    "**Ans:** You cannot add an element in a tuple. They are immutable"
   ]
  },
  {
   "cell_type": "markdown",
   "metadata": {
    "id": "cb7dbb57"
   },
   "source": [
    "**Replace '2' with '3' in tuple1 = (['a', 1, True], 2, 'Science', -5)**"
   ]
  },
  {
   "cell_type": "markdown",
   "metadata": {
    "id": "1325b928"
   },
   "source": [
    "**Ans:** You cannot replace an element in a tuple. They are immutable"
   ]
  },
  {
   "cell_type": "markdown",
   "metadata": {
    "id": "ef4ef5d6"
   },
   "source": [
    "## 1.23 Practice Assignment- Dictionary Accessing items\n",
    "- Q1. Write a program to retrieve the keys/values of dictionary\n",
    "\n",
    "**Use the dictionary**\n",
    "\n",
    "dictionary2 = {0:3, 'x':5, 1:2}"
   ]
  },
  {
   "cell_type": "code",
   "execution_count": 26,
   "metadata": {
    "id": "55389996"
   },
   "outputs": [],
   "source": [
    "#defining dictionary\n",
    "dictionary2 = {0:3, 'x':5, 1:2}"
   ]
  },
  {
   "cell_type": "code",
   "execution_count": 27,
   "metadata": {
    "colab": {
     "base_uri": "https://localhost:8080/"
    },
    "id": "e7b5c661",
    "outputId": "94473a1e-63f0-425f-9d19-25f647f0ce8e"
   },
   "outputs": [
    {
     "name": "stdout",
     "output_type": "stream",
     "text": [
      "dict_keys([0, 'x', 1])\n",
      "dict_values([3, 5, 2])\n"
     ]
    }
   ],
   "source": [
    "#question 1\n",
    "print(dictionary2.keys())\n",
    "print(dictionary2.values())"
   ]
  },
  {
   "cell_type": "markdown",
   "metadata": {
    "id": "63600a1b"
   },
   "source": [
    "- Q2. Write a program to get the value for 'Age' from the dictionary\n",
    "**Use the dictionary**\n",
    "\n",
    "dictionary3 = {'Weight': 67, 'BMI': 25, 'Age': 27, 'Profession': 'CA'}"
   ]
  },
  {
   "cell_type": "code",
   "execution_count": 28,
   "metadata": {
    "colab": {
     "base_uri": "https://localhost:8080/"
    },
    "id": "b8562428",
    "outputId": "c051f811-aab6-4c16-ff16-4d9ba6bb3cd6"
   },
   "outputs": [
    {
     "data": {
      "text/plain": [
       "27"
      ]
     },
     "execution_count": 28,
     "metadata": {
      "tags": []
     },
     "output_type": "execute_result"
    }
   ],
   "source": [
    "dictionary3 = {'Weight': 67, 'BMI': 25, 'Age': 27, 'Profession': 'CA'}\n",
    "\n",
    "#question 2\n",
    "dictionary3['Age']"
   ]
  },
  {
   "cell_type": "markdown",
   "metadata": {
    "id": "1a3f457c"
   },
   "source": [
    "## 1.25 Practice Assignment- Dictionary Methods\n",
    "\n",
    "- Q1. Write a code to add a key to a dictionary\n",
    "\n",
    "**Use the given dictionary and add a key (4:16)**\n",
    "\n",
    "dictionary1 = {1:1, 2:4, 3:9}"
   ]
  },
  {
   "cell_type": "code",
   "execution_count": 29,
   "metadata": {
    "id": "d628734d"
   },
   "outputs": [],
   "source": [
    "dictionary1 = {1:1, 2:4, 3:9}"
   ]
  },
  {
   "cell_type": "code",
   "execution_count": 30,
   "metadata": {
    "colab": {
     "base_uri": "https://localhost:8080/"
    },
    "id": "eef44f56",
    "outputId": "d7117cf2-f3a0-4eff-b37a-9a1f8b8262e3"
   },
   "outputs": [
    {
     "data": {
      "text/plain": [
       "{1: 1, 2: 4, 3: 9, 4: 16}"
      ]
     },
     "execution_count": 30,
     "metadata": {
      "tags": []
     },
     "output_type": "execute_result"
    }
   ],
   "source": [
    "#question 1\n",
    "dictionary1[4]=16\n",
    "dictionary1"
   ]
  },
  {
   "cell_type": "markdown",
   "metadata": {
    "id": "cdd26a4e"
   },
   "source": [
    "- Q2. Replace the value of one key in the dictionary\n",
    "\n",
    "**Use the given dictionary and replace the value of 'A'**\n",
    "\n",
    "dictionary2 = {'A':'Apple', 'O':'Orange', 'G':'Grapes'}"
   ]
  },
  {
   "cell_type": "code",
   "execution_count": 31,
   "metadata": {
    "id": "1efd4b1c"
   },
   "outputs": [],
   "source": [
    "dictionary2 = {'A':'Apple', 'O':'Orange', 'G':'Grapes'}"
   ]
  },
  {
   "cell_type": "code",
   "execution_count": 32,
   "metadata": {
    "colab": {
     "base_uri": "https://localhost:8080/"
    },
    "id": "374efdb9",
    "outputId": "44ead2c2-4ecb-4e61-8062-b73edc1fcb31"
   },
   "outputs": [
    {
     "data": {
      "text/plain": [
       "{'A': 'Ape', 'G': 'Grapes', 'O': 'Orange'}"
      ]
     },
     "execution_count": 32,
     "metadata": {
      "tags": []
     },
     "output_type": "execute_result"
    }
   ],
   "source": [
    "#question 2\n",
    "dictionary2['A']='Ape'\n",
    "dictionary2"
   ]
  },
  {
   "cell_type": "markdown",
   "metadata": {
    "id": "f7c7ebe7"
   },
   "source": [
    "## 1.27 Practice Assignment- Conditional Statements\n",
    "\n",
    "- Q1. Write a program to check whether a given number is multiple of 7 (use if statement)\n",
    "\n",
    "number = 28\n",
    "\n",
    "The print statement is executed only if the 'if' condition is true. Else, the print statement is not executed and there will be no output."
   ]
  },
  {
   "cell_type": "code",
   "execution_count": 33,
   "metadata": {
    "colab": {
     "base_uri": "https://localhost:8080/"
    },
    "id": "aa0ae8cf",
    "outputId": "3e141430-0ccb-4bed-b52f-c4d70d7749be"
   },
   "outputs": [
    {
     "name": "stdout",
     "output_type": "stream",
     "text": [
      "multiple of 7\n"
     ]
    }
   ],
   "source": [
    "number=28\n",
    "\n",
    "#question 1\n",
    "\n",
    "if number%7 ==0:\n",
    "    print('multiple of 7')\n",
    "else:\n",
    "    print('Not a multiple of 7')"
   ]
  },
  {
   "cell_type": "markdown",
   "metadata": {
    "id": "3864f6f9"
   },
   "source": [
    "- Q2. Write a code to print the maximum of two numbers (use if-else)\n",
    "\n",
    "x = 55\n",
    "\n",
    "y = 7"
   ]
  },
  {
   "cell_type": "code",
   "execution_count": 34,
   "metadata": {
    "colab": {
     "base_uri": "https://localhost:8080/"
    },
    "id": "5554a04e",
    "outputId": "3005818c-c59b-44b8-c830-83cca373894b"
   },
   "outputs": [
    {
     "name": "stdout",
     "output_type": "stream",
     "text": [
      "Maximum is x\n"
     ]
    }
   ],
   "source": [
    "x=55\n",
    "y=7\n",
    "\n",
    "#question 2\n",
    "\n",
    "if(x>y):\n",
    "    print('Maximum is x')\n",
    "elif(x<y):\n",
    "    print('Maximum is y')\n",
    "else:\n",
    "    print('equal')"
   ]
  },
  {
   "cell_type": "markdown",
   "metadata": {
    "id": "46613ce2"
   },
   "source": [
    "3. Write a program to check whether a number is positive, negative or zero (use if-elif)\n",
    "\n",
    "number = 45"
   ]
  },
  {
   "cell_type": "code",
   "execution_count": 35,
   "metadata": {
    "colab": {
     "base_uri": "https://localhost:8080/"
    },
    "id": "ef98c1c9",
    "outputId": "fc964bf1-b6dc-4987-f1c1-2e85f8930951"
   },
   "outputs": [
    {
     "name": "stdout",
     "output_type": "stream",
     "text": [
      "positive\n"
     ]
    }
   ],
   "source": [
    "number =45\n",
    "\n",
    "#question 3\n",
    "\n",
    "if number>0:\n",
    "    print('positive')\n",
    "elif number<0:\n",
    "    print('negative')\n",
    "else:\n",
    "    print(0)"
   ]
  },
  {
   "cell_type": "markdown",
   "metadata": {
    "id": "ef64ac28"
   },
   "source": [
    "## 1.28 Practice Assignment- Loops\n",
    "- Q1. Write a code to print the letters in the string as upper case letters (use for loop)\n",
    "\n",
    "string = \"python\""
   ]
  },
  {
   "cell_type": "code",
   "execution_count": 36,
   "metadata": {
    "colab": {
     "base_uri": "https://localhost:8080/"
    },
    "id": "71ce8c57",
    "outputId": "995e0269-7dec-469e-dfd7-5b691e0b8175"
   },
   "outputs": [
    {
     "name": "stdout",
     "output_type": "stream",
     "text": [
      "P\n",
      "Y\n",
      "T\n",
      "H\n",
      "O\n",
      "N\n"
     ]
    }
   ],
   "source": [
    "string = \"python\"\n",
    "\n",
    "#question 1\n",
    "\n",
    "for i in string:\n",
    "    print(i.upper())"
   ]
  },
  {
   "cell_type": "markdown",
   "metadata": {
    "id": "3a08146e"
   },
   "source": [
    "- Q2. Write a program to print the numbers less than 100 that are divisible by 4 (use while loop)"
   ]
  },
  {
   "cell_type": "code",
   "execution_count": 37,
   "metadata": {
    "colab": {
     "base_uri": "https://localhost:8080/"
    },
    "id": "3537465f",
    "outputId": "c492e983-e1cf-4d2b-87e6-d40b27483db3"
   },
   "outputs": [
    {
     "name": "stdout",
     "output_type": "stream",
     "text": [
      "0\n",
      "4\n",
      "8\n",
      "12\n",
      "16\n",
      "20\n",
      "24\n",
      "28\n",
      "32\n",
      "36\n",
      "40\n",
      "44\n",
      "48\n",
      "52\n",
      "56\n",
      "60\n",
      "64\n",
      "68\n",
      "72\n",
      "76\n",
      "80\n",
      "84\n",
      "88\n",
      "92\n",
      "96\n"
     ]
    }
   ],
   "source": [
    "#question 2\n",
    "\n",
    "i=0\n",
    "while(i<100):\n",
    "    if(i%4==0):\n",
    "        print(i)\n",
    "    i=i+1"
   ]
  },
  {
   "cell_type": "markdown",
   "metadata": {
    "id": "99c2dac5"
   },
   "source": [
    "## 1.29 Practice Assignment- Break and continue\n",
    "\n",
    "- Q1. Use break statement in while loop to print the integers from 1 to 7"
   ]
  },
  {
   "cell_type": "code",
   "execution_count": 38,
   "metadata": {
    "colab": {
     "base_uri": "https://localhost:8080/"
    },
    "id": "276b661b",
    "outputId": "81be0ae6-09bc-48fc-d4f1-e6e62dfe1847"
   },
   "outputs": [
    {
     "name": "stdout",
     "output_type": "stream",
     "text": [
      "1\n",
      "2\n",
      "3\n",
      "4\n",
      "5\n",
      "6\n",
      "7\n"
     ]
    }
   ],
   "source": [
    "#question 1\n",
    "i=1\n",
    "while(True):\n",
    "    if(i>7):\n",
    "        break\n",
    "    print(i)\n",
    "    i=i+1"
   ]
  },
  {
   "cell_type": "markdown",
   "metadata": {
    "id": "f54673e4"
   },
   "source": [
    "- Q2. Print all the letters of the string 'GreatLearning' except 't' using a loop"
   ]
  },
  {
   "cell_type": "code",
   "execution_count": 39,
   "metadata": {
    "colab": {
     "base_uri": "https://localhost:8080/"
    },
    "id": "f797a1fa",
    "outputId": "ef4cf34e-38af-4cef-8f04-399905b35b4e"
   },
   "outputs": [
    {
     "name": "stdout",
     "output_type": "stream",
     "text": [
      "G\n",
      "r\n",
      "e\n",
      "a\n",
      "L\n",
      "e\n",
      "a\n",
      "r\n",
      "n\n",
      "i\n",
      "n\n",
      "g\n"
     ]
    }
   ],
   "source": [
    "string= 'GreatLearning'\n",
    "\n",
    "#question 2\n",
    "\n",
    "for i in string:\n",
    "    if(i=='t'):\n",
    "        continue\n",
    "    print(i)"
   ]
  },
  {
   "cell_type": "markdown",
   "metadata": {
    "id": "cdf78137"
   },
   "source": [
    "## 1.30 Practice Assignment- Functions without arguments\n",
    "\n",
    "- Q1. Define the python function which adds two global numeric variables (1204 and 344536) Without Argument."
   ]
  },
  {
   "cell_type": "code",
   "execution_count": 40,
   "metadata": {
    "id": "9c8cec82"
   },
   "outputs": [],
   "source": [
    "var1=1204\n",
    "var2=344536\n",
    "\n",
    "#question 1\n",
    "\n",
    "def f():\n",
    "    return var1+var2"
   ]
  },
  {
   "cell_type": "code",
   "execution_count": 41,
   "metadata": {
    "colab": {
     "base_uri": "https://localhost:8080/"
    },
    "id": "a7d504b1",
    "outputId": "d37dd356-d5a0-4f66-c512-53ae852b98d3"
   },
   "outputs": [
    {
     "data": {
      "text/plain": [
       "345740"
      ]
     },
     "execution_count": 41,
     "metadata": {
      "tags": []
     },
     "output_type": "execute_result"
    }
   ],
   "source": [
    "f()"
   ]
  },
  {
   "cell_type": "markdown",
   "metadata": {
    "id": "796dfedf"
   },
   "source": [
    "## 1.31 Practice Assignment- Functions with arguments\n",
    "- Q1. Define the python function to check whether the number 33 is even or odd"
   ]
  },
  {
   "cell_type": "code",
   "execution_count": 42,
   "metadata": {
    "id": "35a4413a"
   },
   "outputs": [],
   "source": [
    "#question 1\n",
    "\n",
    "def even_odd(num):\n",
    "    if(num%2==0):\n",
    "        return 'even'\n",
    "    else:\n",
    "        return 'odd'"
   ]
  },
  {
   "cell_type": "code",
   "execution_count": 43,
   "metadata": {
    "colab": {
     "base_uri": "https://localhost:8080/",
     "height": 36
    },
    "id": "5c6393ac",
    "outputId": "a1643645-016d-4669-f47d-3139c70d5770"
   },
   "outputs": [
    {
     "data": {
      "application/vnd.google.colaboratory.intrinsic+json": {
       "type": "string"
      },
      "text/plain": [
       "'odd'"
      ]
     },
     "execution_count": 43,
     "metadata": {
      "tags": []
     },
     "output_type": "execute_result"
    }
   ],
   "source": [
    "even_odd(33)"
   ]
  },
  {
   "cell_type": "markdown",
   "metadata": {
    "id": "9193a801"
   },
   "source": [
    "- Q2. Define the python function to calculate the factorial of the number"
   ]
  },
  {
   "cell_type": "code",
   "execution_count": 44,
   "metadata": {
    "id": "d6ef6e47"
   },
   "outputs": [],
   "source": [
    "#question 2\n",
    "\n",
    "def factorial(num):\n",
    "    if(num==1):\n",
    "        return 1\n",
    "    return factorial(num-1)*num"
   ]
  },
  {
   "cell_type": "code",
   "execution_count": 45,
   "metadata": {
    "colab": {
     "base_uri": "https://localhost:8080/"
    },
    "id": "08da3158",
    "outputId": "43c043cc-5b08-4fbd-810d-08d88e6c1c67"
   },
   "outputs": [
    {
     "data": {
      "text/plain": [
       "120"
      ]
     },
     "execution_count": 45,
     "metadata": {
      "tags": []
     },
     "output_type": "execute_result"
    }
   ],
   "source": [
    "factorial(5)"
   ]
  },
  {
   "cell_type": "markdown",
   "metadata": {
    "id": "77b7eae4"
   },
   "source": [
    "- Q3. Write the python program to get the unique values from the given list\n",
    "\n",
    "**Use the list given below:**<br>\n",
    "my_list = [1,2,3,3,11,34,3,3,4,5]"
   ]
  },
  {
   "cell_type": "code",
   "execution_count": 46,
   "metadata": {
    "id": "d7cbd0b8"
   },
   "outputs": [],
   "source": [
    "#question 3\n",
    "\n",
    "def unique(my_list):\n",
    "    l=[]\n",
    "    for i in my_list:\n",
    "        if(i not in l):\n",
    "            l.append(i)\n",
    "    return l"
   ]
  },
  {
   "cell_type": "code",
   "execution_count": 47,
   "metadata": {
    "colab": {
     "base_uri": "https://localhost:8080/"
    },
    "id": "a5b49421",
    "outputId": "57ef9c86-d0fc-492d-ccf4-f8b05e643a23"
   },
   "outputs": [
    {
     "data": {
      "text/plain": [
       "[1, 2, 3, 11, 34, 4, 5]"
      ]
     },
     "execution_count": 47,
     "metadata": {
      "tags": []
     },
     "output_type": "execute_result"
    }
   ],
   "source": [
    "my_list = [1,2,3,3,11,34,3,3,4,5]\n",
    "unique(my_list)"
   ]
  },
  {
   "cell_type": "markdown",
   "metadata": {
    "id": "e8b3d9af"
   },
   "source": [
    "## 1.33 Practice Assignment- Lambda Functions\n",
    "- Q1. Find the minimum of the two numbers(34 and 78) using the lambda function"
   ]
  },
  {
   "cell_type": "code",
   "execution_count": 48,
   "metadata": {
    "id": "7eafc43e"
   },
   "outputs": [],
   "source": [
    "#question 1\n",
    "min=lambda x,y: x if x<y else y"
   ]
  },
  {
   "cell_type": "code",
   "execution_count": 49,
   "metadata": {
    "colab": {
     "base_uri": "https://localhost:8080/"
    },
    "id": "fcb45611",
    "outputId": "48c45455-ced5-4373-f80a-d5b96eff6919"
   },
   "outputs": [
    {
     "data": {
      "text/plain": [
       "34"
      ]
     },
     "execution_count": 49,
     "metadata": {
      "tags": []
     },
     "output_type": "execute_result"
    }
   ],
   "source": [
    "min(34,78)"
   ]
  },
  {
   "cell_type": "markdown",
   "metadata": {
    "id": "d34f7c07"
   },
   "source": [
    "## 1.34 Practice Assignment- Map and Filters\n",
    "\n",
    "- Q1. Calculate the square of each element from the given tuple using the map function\n",
    "\n",
    "**Use the tuple given below:**<br>\n",
    "number = (11, 21, 30, 34)"
   ]
  },
  {
   "cell_type": "code",
   "execution_count": 50,
   "metadata": {
    "colab": {
     "base_uri": "https://localhost:8080/"
    },
    "id": "eb610c32",
    "outputId": "4ae1d694-7ed1-4c32-e1ad-587a8b37f3b2"
   },
   "outputs": [
    {
     "data": {
      "text/plain": [
       "[121, 441, 900, 1156]"
      ]
     },
     "execution_count": 50,
     "metadata": {
      "tags": []
     },
     "output_type": "execute_result"
    }
   ],
   "source": [
    "number = (11, 21, 30, 34)\n",
    "\n",
    "#question 1\n",
    "\n",
    "def square(x):\n",
    "        return x*x\n",
    "    \n",
    "list(map(square,number))\n"
   ]
  },
  {
   "cell_type": "markdown",
   "metadata": {
    "id": "f526f8d3"
   },
   "source": [
    "- Q2. Read the given sentence and print the length of each word in a sentence in a list using the map function\n",
    "**Use the sentence given below :**\n",
    "\n",
    "**sentence = 'Python for Data Science'**"
   ]
  },
  {
   "cell_type": "code",
   "execution_count": 51,
   "metadata": {
    "colab": {
     "base_uri": "https://localhost:8080/"
    },
    "id": "dbec3518",
    "outputId": "074c4c88-ace0-4ed1-d2cf-6ae066267dc3"
   },
   "outputs": [
    {
     "data": {
      "text/plain": [
       "[6, 3, 4, 7]"
      ]
     },
     "execution_count": 51,
     "metadata": {
      "tags": []
     },
     "output_type": "execute_result"
    }
   ],
   "source": [
    "sentence = 'Python for Data Science'\n",
    "\n",
    "#question 2\n",
    "\n",
    "list(map(len, sentence.split()))"
   ]
  },
  {
   "cell_type": "markdown",
   "metadata": {
    "id": "33dcaa1e"
   },
   "source": [
    "- Q3. Find the remainder of all the numbers present in a list after dividing by 5\n",
    "\n",
    "**Use the list given below:**<br>\n",
    "\n",
    "numbers = [ 74, 85, 14, 23 ]"
   ]
  },
  {
   "cell_type": "code",
   "execution_count": 52,
   "metadata": {
    "colab": {
     "base_uri": "https://localhost:8080/"
    },
    "id": "d77ea34b",
    "outputId": "b3c3fd14-ff23-488f-94c8-61420cea597a"
   },
   "outputs": [
    {
     "data": {
      "text/plain": [
       "[4, 0, 4, 3]"
      ]
     },
     "execution_count": 52,
     "metadata": {
      "tags": []
     },
     "output_type": "execute_result"
    }
   ],
   "source": [
    "numbers = [ 74, 85, 14, 23 ]\n",
    "\n",
    "#question 3\n",
    "\n",
    "list(map(lambda x:x%5, numbers))"
   ]
  },
  {
   "cell_type": "markdown",
   "metadata": {
    "id": "df5e6e88"
   },
   "source": [
    "Q4. Concatenate elements from the list1 with the corresponding element of list2\n",
    "\n",
    "Use the list given below:\n",
    "\n",
    "list1 = ['I', 'felt', 'happy', 'because', 'I', 'saw', 'the', 'others', 'were', 'happy']\n",
    "\n",
    "list2 = [11,22,33,44,55,66,77,88,99]"
   ]
  },
  {
   "cell_type": "code",
   "execution_count": 53,
   "metadata": {
    "colab": {
     "base_uri": "https://localhost:8080/"
    },
    "id": "fde272b7",
    "outputId": "8f63db86-78a5-4bbc-b6eb-8c86313edfa1"
   },
   "outputs": [
    {
     "data": {
      "text/plain": [
       "['I11',\n",
       " 'felt22',\n",
       " 'happy33',\n",
       " 'because44',\n",
       " 'I55',\n",
       " 'saw66',\n",
       " 'the77',\n",
       " 'others88',\n",
       " 'were99']"
      ]
     },
     "execution_count": 53,
     "metadata": {
      "tags": []
     },
     "output_type": "execute_result"
    }
   ],
   "source": [
    "list1 = ['I', 'felt', 'happy', 'because', 'I', 'saw', 'the', 'others', 'were', 'happy']\n",
    "\n",
    "list2 = [11,22,33,44,55,66,77,88,99]\n",
    "\n",
    "# question 4\n",
    "\n",
    "list2=list(map(str,list2))\n",
    "\n",
    "list(map(lambda x, y : x + y, list1,list2))\n",
    "    "
   ]
  },
  {
   "cell_type": "markdown",
   "metadata": {
    "id": "9e44c20d"
   },
   "source": [
    "- Q5. Find the common elements from the given array using filter method\n",
    "\n",
    "Use the array given below:\n",
    "\n",
    "arr1 = ['t','u','t','o','r','i','a','l']\n",
    "\n",
    "arr2 = ['p','o','i','n','t']"
   ]
  },
  {
   "cell_type": "code",
   "execution_count": 54,
   "metadata": {
    "colab": {
     "base_uri": "https://localhost:8080/"
    },
    "id": "0edcfbc3",
    "outputId": "6d77d340-8118-45b3-dcc6-bd42474211bc"
   },
   "outputs": [
    {
     "data": {
      "text/plain": [
       "['o', 'i', 't']"
      ]
     },
     "execution_count": 54,
     "metadata": {
      "tags": []
     },
     "output_type": "execute_result"
    }
   ],
   "source": [
    "arr1 = ['t','u','t','o','r','i','a','l']\n",
    "\n",
    "arr2 = ['p','o','i','n','t']\n",
    "\n",
    "#question 5\n",
    "\n",
    "list(filter(lambda x: x in arr1, arr2))"
   ]
  },
  {
   "cell_type": "markdown",
   "metadata": {
    "id": "02be9f7e"
   },
   "source": [
    "Q6. Remove odd numbers from the given list\n",
    "\n",
    "Use the list given below:\n",
    "\n",
    "numbers = [21, 23, 443, 355, 743, 823, 110, 1241, 3673, 352, 278, 37, 7]"
   ]
  },
  {
   "cell_type": "code",
   "execution_count": 55,
   "metadata": {
    "colab": {
     "base_uri": "https://localhost:8080/"
    },
    "id": "297bddfb",
    "outputId": "f6fc7422-1c98-46ec-e5e3-058182116bda"
   },
   "outputs": [
    {
     "data": {
      "text/plain": [
       "[110, 352, 278]"
      ]
     },
     "execution_count": 55,
     "metadata": {
      "tags": []
     },
     "output_type": "execute_result"
    }
   ],
   "source": [
    "numbers = [21, 23, 443, 355, 743, 823, 110, 1241, 3673, 352, 278, 37, 7]\n",
    "\n",
    "#question 6\n",
    "\n",
    "list(filter(lambda x: x%2==0,numbers))"
   ]
  }
 ],
 "metadata": {
  "colab": {
   "collapsed_sections": [],
   "name": "Practice Assignments Solution Notebook.ipynb",
   "provenance": []
  },
  "kernelspec": {
   "display_name": "Python 3",
   "language": "python",
   "name": "python3"
  },
  "language_info": {
   "codemirror_mode": {
    "name": "ipython",
    "version": 3
   },
   "file_extension": ".py",
   "mimetype": "text/x-python",
   "name": "python",
   "nbconvert_exporter": "python",
   "pygments_lexer": "ipython3",
   "version": "3.8.5"
  }
 },
 "nbformat": 4,
 "nbformat_minor": 5
}
