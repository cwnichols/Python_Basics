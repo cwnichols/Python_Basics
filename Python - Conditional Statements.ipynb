{
 "cells": [
  {
   "cell_type": "markdown",
   "metadata": {},
   "source": [
    "## Conditional Statements"
   ]
  },
  {
   "cell_type": "code",
   "execution_count": 4,
   "metadata": {},
   "outputs": [
    {
     "name": "stdout",
     "output_type": "stream",
     "text": [
      "yep it's R\n"
     ]
    }
   ],
   "source": [
    "my_string = 'R'\n",
    "my_list = ['Data Science', 'Machine Learning', 'Artifical Intelligence','Python']\n",
    "\n",
    "if my_string in my_list:\n",
    "    print(my_string+' Tutorial')\n",
    "elif my_string=='R':\n",
    "    print('yep it\\'s R')\n",
    "else: \n",
    "    print('Not in')"
   ]
  },
  {
   "cell_type": "code",
   "execution_count": 6,
   "metadata": {},
   "outputs": [
    {
     "name": "stdout",
     "output_type": "stream",
     "text": [
      "Please enter a number: 9\n",
      "Number is less than ten.\n"
     ]
    }
   ],
   "source": [
    "input_num = float(input(\"Please enter a number: \"))\n",
    "if input_num == 0:\n",
    "    print(\"Please enter a number greater than zero.\")\n",
    "elif input_num > 0 and input_num < 50:\n",
    "    if input_num<10:\n",
    "        print(\"Number is less than ten.\")\n",
    "    else:\n",
    "        print(\"Number is greater than zero and less than fifty.\")\n",
    "else: print(\"Number is greater than fifty.\")"
   ]
  },
  {
   "cell_type": "code",
   "execution_count": 7,
   "metadata": {},
   "outputs": [
    {
     "name": "stdout",
     "output_type": "stream",
     "text": [
      "True\n"
     ]
    }
   ],
   "source": [
    "A = (3,4,5)\n",
    "if A[1] == 8/2:\n",
    "    print('True')\n",
    "else:\n",
    "    print('False')"
   ]
  },
  {
   "cell_type": "code",
   "execution_count": null,
   "metadata": {},
   "outputs": [],
   "source": []
  }
 ],
 "metadata": {
  "kernelspec": {
   "display_name": "Python 3",
   "language": "python",
   "name": "python3"
  },
  "language_info": {
   "codemirror_mode": {
    "name": "ipython",
    "version": 3
   },
   "file_extension": ".py",
   "mimetype": "text/x-python",
   "name": "python",
   "nbconvert_exporter": "python",
   "pygments_lexer": "ipython3",
   "version": "3.8.5"
  }
 },
 "nbformat": 4,
 "nbformat_minor": 4
}
