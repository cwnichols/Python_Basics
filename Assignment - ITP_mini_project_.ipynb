{
 "cells": [
  {
   "cell_type": "markdown",
   "metadata": {},
   "source": [
    "## <center>Introduction to Python Programming – Mini Project</center>\n"
   ]
  },
  {
   "cell_type": "markdown",
   "metadata": {},
   "source": [
    "### Problem 1\n",
    "\n",
    "Write a program to calculate area of shapes. Your program should be capable of calculating the area of a square, rectangle, triangle and a circle. The user should be presented with options to select the shape. Based on which shape is chosen by the user, the program should ask for the appropriate input and print the resulting area on the screen.\n",
    "\n",
    "When the program is run, the screen should display something like this:\n",
    "\n",
    "**Which shape would you like to calculate the area for? Please enter the option number-**<br>\n",
    "**1. Square**<br>\n",
    "**2. Rectangle**<br>\n",
    "**3. Triangle**<br>\n",
    "**4. Circle**<br>\n",
    "**Enter Option: _**\n",
    "\n",
    "Say the user enters the option 1.\n",
    "\n",
    "**Please enter the length of a side: _**\n",
    "\n",
    "If the user enters a value of 5. The output should be:\n",
    "\n",
    "**The area of the square is 25**\n",
    "\n",
    "This program should indicate that the input is invalid if the user enters a character instead of a number as input. For instance if the user enters a value of ‘a’ instead of 5 in the previous example the program should prompt:\n",
    "\n",
    "**Invalid input, please enter a number: _**\n"
   ]
  },
  {
   "cell_type": "code",
   "execution_count": 17,
   "metadata": {},
   "outputs": [
    {
     "name": "stdout",
     "output_type": "stream",
     "text": [
      "Which shape would you like to calculate the area of?\n",
      "1 = Square\n",
      "2 = Rectangle\n",
      "3 = Triangle\n",
      "4 = Circle\n",
      "Enter selection: 4\n",
      "Enter radius: 4\n",
      "The area of your circle is:  50.26548245743669\n"
     ]
    }
   ],
   "source": [
    "import math\n",
    "\n",
    "def squarearea(x):\n",
    "    return(x*x)\n",
    "\n",
    "def rectarea(l,w):\n",
    "    return(l*w)\n",
    "\n",
    "def trianglearea(h,b):\n",
    "    return((h*b)/2)\n",
    "\n",
    "def circlearea(r):\n",
    "    return(math.pi*(r**2))\n",
    "\n",
    "print('Which shape would you like to calculate the area of?')\n",
    "print('1 = Square')\n",
    "print('2 = Rectangle')\n",
    "print('3 = Triangle')\n",
    "print('4 = Circle')\n",
    "\n",
    "selection = int(input('Enter selection: '))\n",
    "\n",
    "if selection==1:\n",
    "    sidelength=float(input('Enter length of one side: '))\n",
    "    print('The area of your square is: ',squarearea(sidelength))\n",
    "elif selection==2:\n",
    "    length=float(input('Enter length: '))\n",
    "    width=float(input('Enter width: '))\n",
    "    print('The area of your rectangle is: ',rectarea(length,width))\n",
    "elif selection==3:\n",
    "    height=float(input('Enter height: '))\n",
    "    base=float(input('Enter base length: '))\n",
    "    print('The area of your triangle is: ',trianglearea(height,base)) \n",
    "elif selection==4:\n",
    "    radius=float(input('Enter radius: '))\n",
    "    print('The area of your circle is: ',circlearea(radius)) \n",
    "    \n"
   ]
  },
  {
   "cell_type": "markdown",
   "metadata": {},
   "source": [
    "### Problem 2\n",
    "\n",
    "You have newly joined an organization abc.com. Write a python function that will take your 1st and last name as input and print the official mail as which has a format like firstname.lastname@abc.com\n",
    "\n",
    "When the program is run, the screen should display something like this:\n",
    "\n",
    "Enter your first name: nikhil\n",
    "\n",
    "Enter your last name: agrawal\n",
    "\n",
    "You official email id is nikhil.agrawal@abc.com \n",
    "\n",
    "**Hint:** use string concatenation."
   ]
  },
  {
   "cell_type": "code",
   "execution_count": 19,
   "metadata": {},
   "outputs": [
    {
     "name": "stdout",
     "output_type": "stream",
     "text": [
      "Enter your first name: Chris\n",
      "Enter your last name: Nichols\n",
      "Your official email id is  Chris.Nichols@abc.com\n"
     ]
    }
   ],
   "source": [
    "firstname=str(input('Enter your first name: '))\n",
    "lastname=str(input('Enter your last name: '))\n",
    "email=firstname+'.'+lastname+'@abc.com'\n",
    "print('Your official email id is ',email)"
   ]
  },
  {
   "cell_type": "code",
   "execution_count": 20,
   "metadata": {},
   "outputs": [
    {
     "data": {
      "text/plain": [
       "10.000000000000002"
      ]
     },
     "execution_count": 20,
     "metadata": {},
     "output_type": "execute_result"
    }
   ],
   "source": [
    "100000**(1/5)"
   ]
  },
  {
   "cell_type": "code",
   "execution_count": 22,
   "metadata": {},
   "outputs": [
    {
     "data": {
      "text/plain": [
       "list"
      ]
     },
     "execution_count": 22,
     "metadata": {},
     "output_type": "execute_result"
    }
   ],
   "source": [
    "nums= [10,20,30,40,50,60,70,80,90,100]\n",
    "type(nums)"
   ]
  },
  {
   "cell_type": "code",
   "execution_count": 23,
   "metadata": {},
   "outputs": [
    {
     "data": {
      "text/plain": [
       "str"
      ]
     },
     "execution_count": 23,
     "metadata": {},
     "output_type": "execute_result"
    }
   ],
   "source": [
    "Name =  \"Hello World! My Name is Jupyter!\"\n",
    "type(Name)"
   ]
  },
  {
   "cell_type": "code",
   "execution_count": 25,
   "metadata": {},
   "outputs": [
    {
     "data": {
      "text/plain": [
       "[10,\n",
       " 20,\n",
       " 30,\n",
       " 40,\n",
       " 50,\n",
       " 60,\n",
       " 70,\n",
       " 80,\n",
       " 90,\n",
       " 100,\n",
       " 'Alpha',\n",
       " 'Beta',\n",
       " 'Gamma',\n",
       " 'Theta',\n",
       " 'Lambda']"
      ]
     },
     "execution_count": 25,
     "metadata": {},
     "output_type": "execute_result"
    }
   ],
   "source": [
    "A= [10,20,30,40,50,60,70,80,90,100]\n",
    "B = {\"Alpha\", \"Beta\", \"Gamma\", \"Theta\", \"Lambda\"}\n",
    "C = [\"Alpha\", \"Beta\", \"Gamma\", \"Theta\", \"Lambda\"]\n",
    "\n",
    "A+C"
   ]
  },
  {
   "cell_type": "code",
   "execution_count": 26,
   "metadata": {},
   "outputs": [
    {
     "data": {
      "text/plain": [
       "32"
      ]
     },
     "execution_count": 26,
     "metadata": {},
     "output_type": "execute_result"
    }
   ],
   "source": [
    "Name =  \"Hello World! My Name is Jupyter!\"\n",
    "len(Name)"
   ]
  },
  {
   "cell_type": "code",
   "execution_count": 27,
   "metadata": {},
   "outputs": [
    {
     "name": "stdout",
     "output_type": "stream",
     "text": [
      "Watson\n"
     ]
    }
   ],
   "source": [
    "dict = {\"Sherlock\" : \"Holmes\", \"Dr.\" : \"Watson\"}\n",
    "print(dict[\"Dr.\"])"
   ]
  },
  {
   "cell_type": "code",
   "execution_count": 28,
   "metadata": {},
   "outputs": [
    {
     "name": "stdout",
     "output_type": "stream",
     "text": [
      "[1, 3, 5, 7, 9]\n"
     ]
    }
   ],
   "source": [
    "ls = [1,2,3,4,5,6,7,8,9,10]\n",
    "ls_new = []\n",
    "for i in ls:\n",
    "  if i%2 != 0:\n",
    "    ls_new.append(i)\n",
    "print(ls_new)"
   ]
  },
  {
   "cell_type": "code",
   "execution_count": 29,
   "metadata": {},
   "outputs": [
    {
     "name": "stdout",
     "output_type": "stream",
     "text": [
      "[2, 4, 6]\n"
     ]
    }
   ],
   "source": [
    "lambda_func = lambda x: x * 2\n",
    "numbers = [1, 2, 3]\n",
    "map_list = list(map(lambda_func, numbers))\n",
    "print(map_list)"
   ]
  },
  {
   "cell_type": "code",
   "execution_count": null,
   "metadata": {},
   "outputs": [],
   "source": []
  }
 ],
 "metadata": {
  "kernelspec": {
   "display_name": "Python 3",
   "language": "python",
   "name": "python3"
  },
  "language_info": {
   "codemirror_mode": {
    "name": "ipython",
    "version": 3
   },
   "file_extension": ".py",
   "mimetype": "text/x-python",
   "name": "python",
   "nbconvert_exporter": "python",
   "pygments_lexer": "ipython3",
   "version": "3.8.5"
  }
 },
 "nbformat": 4,
 "nbformat_minor": 2
}
